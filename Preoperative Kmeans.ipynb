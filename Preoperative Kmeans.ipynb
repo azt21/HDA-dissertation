{
 "cells": [
  {
   "cell_type": "markdown",
   "id": "9a2c9e16",
   "metadata": {},
   "source": [
    "## Load data and packages"
   ]
  },
  {
   "cell_type": "code",
   "execution_count": 1,
   "id": "5ed020d9",
   "metadata": {},
   "outputs": [],
   "source": [
    "# import basic packages\n",
    "\n",
    "import numpy as np\n",
    "import os\n",
    "import time\n",
    "from dask import dataframe as dd\n",
    "import seaborn as sns\n",
    "import pandas as pd\n",
    "import matplotlib.pyplot as plt\n",
    "import vitaldb\n",
    "import csv\n",
    "from datetime import datetime, time as datetime_time, timedelta\n",
    "import glob\n",
    "import sys\n",
    "import sklearn.neighbors._base\n",
    "import vitaldb\n",
    "import itertools"
   ]
  },
  {
   "cell_type": "code",
   "execution_count": 2,
   "id": "1821c73c",
   "metadata": {},
   "outputs": [],
   "source": [
    "# Import relevant libraries\n",
    "import torch\n",
    "import torch.nn as nn\n",
    "\n",
    "import seaborn as sns\n",
    "import numpy as np\n",
    "import pandas as pd\n",
    "import matplotlib.pyplot as plt\n",
    "from sklearn.preprocessing import StandardScaler\n",
    "from sklearn.metrics import mean_squared_error\n",
    "import math\n",
    "import tensorflow as tf\n",
    "%matplotlib inline\n",
    "from sklearn.metrics import auc, classification_report, confusion_matrix, accuracy_score, roc_curve, roc_auc_score, f1_score, precision_recall_curve\n",
    "from torch.autograd import Variable"
   ]
  },
  {
   "cell_type": "code",
   "execution_count": 3,
   "id": "fd9bc4ea",
   "metadata": {},
   "outputs": [],
   "source": [
    "# Option to fully display columns and rows\n",
    "pd.set_option('display.max_columns', 500)\n",
    "pd.set_option('display.max_rows', 300)"
   ]
  },
  {
   "cell_type": "code",
   "execution_count": 4,
   "id": "fb380111",
   "metadata": {},
   "outputs": [
    {
     "data": {
      "text/plain": [
       "'/Users/tselanna/Desktop/Code'"
      ]
     },
     "execution_count": 4,
     "metadata": {},
     "output_type": "execute_result"
    }
   ],
   "source": [
    "# function to get root directory\n",
    "def getRootDir():\n",
    "    \"\"\"\n",
    "    Get root folder directory\n",
    "    :return: root folder directory\n",
    "    :rtype: path\n",
    "    \"\"\"\n",
    "    rootdir = os.path.abspath(os.curdir)\n",
    "\n",
    "    return rootdir\n",
    "rootdir = getRootDir()\n",
    "rootdir"
   ]
  },
  {
   "cell_type": "code",
   "execution_count": 5,
   "id": "ebc7d91d",
   "metadata": {},
   "outputs": [],
   "source": [
    "# Import dataset from hard drive\n",
    "df = glob.glob(os.path.join(\n",
    "        rootdir, 'TOSHIBA_HDD/2021_11_16T06_54_36_vitalDB_Patient_Metadata_Final_new.csv'))\n",
    "df = pd.read_csv(df[0], dtype={\"Solar8000/BT\": float})"
   ]
  },
  {
   "cell_type": "code",
   "execution_count": 6,
   "id": "67d0c227",
   "metadata": {},
   "outputs": [],
   "source": [
    "ids = [1,   21,   30,   50,   57,   62,   88,  109,  116,  124,  133,\n",
    "        135,  140,  166,  192,  194,  196,  207,  211,  220,  224,  230,\n",
    "        238,  239,  243,  269,  305,  313,  320,  323,  329,  351,  384,\n",
    "        446,  459,  465,  476,  483,  487,  489,  498,  501,  503,  517,\n",
    "        525,  534,  535,  548,  551,  569,  581,  591,  600,  606,  608,\n",
    "        612,  613,  616,  618,  651,  653,  664,  681,  687,  696,  707,\n",
    "        739,  755,  780,  782,  799,  801,  808,  820,  830,  832,  851,\n",
    "        859,  865,  873,  898,  924,  927,  930,  937,  939,  958,  965,\n",
    "        966,  975,  978,  982, 1021, 1026, 1081, 1082, 1086, 1088, 1104,\n",
    "       1130, 1134, 1137, 1149, 1155, 1156, 1167, 1175, 1189, 1200, 1201,\n",
    "       1207, 1210, 1214, 1232, 1236, 1244, 1255, 1258, 1259, 1308, 1311,\n",
    "       1315, 1316, 1359, 1367, 1378, 1379, 1381, 1401, 1405, 1421, 1422,\n",
    "       1434, 1435, 1450, 1453, 1457, 1461, 1467, 1476, 1479, 1483, 1492,\n",
    "       1494, 1499, 1502, 1508, 1510, 1526, 1562, 1567, 1568, 1591, 1625,\n",
    "       1655, 1666, 1671, 1694, 1709, 1718, 1721, 1731, 1741, 1742, 1743,\n",
    "       1764, 1766, 1767, 1788, 1792, 1796, 1803, 1813, 1815, 1819, 1824,\n",
    "       1826, 1854, 1859, 1873, 1879, 1880, 1923, 1928, 1934, 1965, 1977,\n",
    "       1993, 2003, 2026, 2037, 2038, 2045, 2054, 2068, 2078, 2082, 2094,\n",
    "       2100, 2104, 2105, 2107, 2108, 2109, 2124, 2126, 2190, 2201, 2215,\n",
    "       2220, 2229, 2235, 2242, 2247, 2248, 2255, 2265, 2278, 2287, 2302,\n",
    "       2306, 2308, 2316, 2343, 2345, 2346, 2351, 2362, 2363, 2371, 2372,\n",
    "       2373, 2378, 2389, 2407, 2430, 2431, 2448, 2456, 2462, 2470, 2475,\n",
    "       2491, 2496, 2501, 2506, 2517, 2531, 2540, 2549, 2551, 2559, 2565,\n",
    "       2567, 2570, 2580, 2588, 2617, 2624, 2630, 2634, 2649, 2693, 2707,\n",
    "       2712, 2754, 2767, 2773, 2779, 2784, 2792, 2800, 2805, 2813, 2820,\n",
    "       2825, 2829, 2834, 2842, 2863, 2881, 2885, 2886, 2921, 2923, 2928,\n",
    "       2930, 2934, 2936, 2937, 2953, 2957, 2989, 3022, 3029, 3039, 3048,\n",
    "       3052, 3053, 3059, 3062, 3079, 3110, 3155, 3161, 3163, 3170, 3180,\n",
    "       3183, 3189, 3195, 3213, 3224, 3227, 3234, 3250, 3253, 3254, 3265,\n",
    "       3283, 3285, 3302, 3310, 3314, 3326, 3343, 3356, 3358, 3382, 3397,\n",
    "       3398, 3401, 3413, 3423, 3427, 3431, 3449, 3477, 3480, 3494, 3496,\n",
    "       3512, 3531, 3532, 3535, 3546, 3547, 3552, 3557, 3562, 3597, 3604,\n",
    "       3609, 3620, 3621, 3623, 3624, 3638, 3639, 3656, 3670, 3677, 3678,\n",
    "       3684, 3695, 3703, 3704, 3713, 3714, 3724, 3728, 3732, 3735, 3754,\n",
    "       3761, 3764, 3779, 3780, 3786, 3788, 3801, 3808, 3823, 3851, 3874,\n",
    "       3893, 3914, 3918, 3920, 3924, 3933, 3943, 3961, 3982, 3992, 4007,\n",
    "       4010, 4028, 4057, 4075, 4087, 4097, 4110, 4114, 4121, 4154, 4158,\n",
    "       4160, 4186, 4225, 4229, 4248, 4249, 4257, 4269, 4288, 4303, 4326,\n",
    "       4334, 4354, 4355, 4363, 4366, 4375, 4378, 4383, 4395, 4432, 4437,\n",
    "       4451, 4456, 4458, 4469, 4482, 4491, 4517, 4531, 4563, 4607, 4608,\n",
    "       4617, 4626, 4627, 4646, 4657, 4670, 4686, 4688, 4691, 4701, 4709,\n",
    "       4711, 4729, 4735, 4759, 4770, 4773, 4775, 4783, 4825, 4826, 4829,\n",
    "       4840, 4848, 4850, 4874, 4888, 4897, 4898, 4909, 4912, 4925, 4943,\n",
    "       4948, 4962, 4970, 4972, 5011, 5013, 5017, 5020, 5032, 5041, 5046,\n",
    "       5050, 5068, 5086, 5087, 5115, 5128, 5130, 5139, 5140, 5167, 5187,\n",
    "       5196, 5198, 5206, 5211, 5215, 5221, 5229, 5249, 5252, 5263, 5279,\n",
    "       5284, 5293, 5295, 5297, 5318, 5335, 5345, 5361, 5378, 5387, 5395,\n",
    "       5400, 5402, 5423, 5465, 5469, 5494, 5506, 5509, 5516, 5523, 5540,\n",
    "       5555, 5566, 5568, 5570, 5582, 5596, 5600, 5601, 5627, 5631, 5639,\n",
    "       5644, 5658, 5672, 5700, 5716, 5731, 5734, 5737, 5741, 5742, 5756,\n",
    "       5764, 5786, 5798, 5821, 5828, 5834, 5879, 5881, 5888, 5900, 5911,\n",
    "       5913, 5927, 5935, 5949, 5960, 5968, 5984, 6001, 6023, 6036, 6045,\n",
    "       6059, 6112, 6116, 6118, 6123, 6133, 6137, 6146, 6181, 6210, 6214,\n",
    "       6218, 6225, 6226, 6231, 6232, 6241, 6253, 6263, 6265, 6272, 6294,\n",
    "       6316, 6317, 6321, 6325, 6340, 6352, 6356, 6358, 6360, 6385]"
   ]
  },
  {
   "cell_type": "code",
   "execution_count": 7,
   "id": "9e84293a",
   "metadata": {},
   "outputs": [],
   "source": [
    "data = df.loc[df['caseid'].isin(ids)]"
   ]
  },
  {
   "cell_type": "code",
   "execution_count": 8,
   "id": "bc6d8c76",
   "metadata": {},
   "outputs": [],
   "source": [
    "cols = ['caseid', 'age', 'height', 'weight', 'bmi', 'asa', 'preop_htn',\n",
    "       'preop_dm', 'preop_hb', 'preop_plt', 'preop_pt', 'preop_aptt',\n",
    "       'preop_na', 'preop_k', 'preop_gluc', 'preop_alb', 'preop_ast',\n",
    "       'preop_alt', 'preop_bun', 'preop_cr', 'intraop_ebl', 'intraop_uo',\n",
    "       'intraop_crystalloid', 'intraop_ppf', 'intraop_ftn', 'intraop_rocu',\n",
    "       'intraop_eph']"
   ]
  },
  {
   "cell_type": "code",
   "execution_count": 9,
   "id": "7574fd69",
   "metadata": {},
   "outputs": [],
   "source": [
    "data1 = data[data.columns[data.columns.isin(cols)]]"
   ]
  },
  {
   "cell_type": "code",
   "execution_count": 10,
   "id": "9c0ec541",
   "metadata": {},
   "outputs": [
    {
     "data": {
      "text/html": [
       "<div>\n",
       "<style scoped>\n",
       "    .dataframe tbody tr th:only-of-type {\n",
       "        vertical-align: middle;\n",
       "    }\n",
       "\n",
       "    .dataframe tbody tr th {\n",
       "        vertical-align: top;\n",
       "    }\n",
       "\n",
       "    .dataframe thead th {\n",
       "        text-align: right;\n",
       "    }\n",
       "</style>\n",
       "<table border=\"1\" class=\"dataframe\">\n",
       "  <thead>\n",
       "    <tr style=\"text-align: right;\">\n",
       "      <th></th>\n",
       "      <th>caseid</th>\n",
       "      <th>age</th>\n",
       "      <th>height</th>\n",
       "      <th>weight</th>\n",
       "      <th>bmi</th>\n",
       "      <th>asa</th>\n",
       "      <th>preop_htn</th>\n",
       "      <th>preop_dm</th>\n",
       "      <th>preop_hb</th>\n",
       "      <th>preop_plt</th>\n",
       "      <th>preop_pt</th>\n",
       "      <th>preop_aptt</th>\n",
       "      <th>preop_na</th>\n",
       "      <th>preop_k</th>\n",
       "      <th>preop_gluc</th>\n",
       "      <th>preop_alb</th>\n",
       "      <th>preop_ast</th>\n",
       "      <th>preop_alt</th>\n",
       "      <th>preop_bun</th>\n",
       "      <th>preop_cr</th>\n",
       "      <th>intraop_ebl</th>\n",
       "      <th>intraop_uo</th>\n",
       "      <th>intraop_crystalloid</th>\n",
       "      <th>intraop_ppf</th>\n",
       "      <th>intraop_ftn</th>\n",
       "      <th>intraop_rocu</th>\n",
       "      <th>intraop_eph</th>\n",
       "    </tr>\n",
       "  </thead>\n",
       "  <tbody>\n",
       "    <tr>\n",
       "      <th>0</th>\n",
       "      <td>1</td>\n",
       "      <td>77.0</td>\n",
       "      <td>160.2</td>\n",
       "      <td>67.5</td>\n",
       "      <td>26.3</td>\n",
       "      <td>2.0</td>\n",
       "      <td>1</td>\n",
       "      <td>0</td>\n",
       "      <td>14.1</td>\n",
       "      <td>189.0</td>\n",
       "      <td>94.0</td>\n",
       "      <td>33.2</td>\n",
       "      <td>141.0</td>\n",
       "      <td>3.1</td>\n",
       "      <td>134.0</td>\n",
       "      <td>4.3</td>\n",
       "      <td>18.0</td>\n",
       "      <td>16.0</td>\n",
       "      <td>10.0</td>\n",
       "      <td>0.82</td>\n",
       "      <td>NaN</td>\n",
       "      <td>300.0</td>\n",
       "      <td>350.0</td>\n",
       "      <td>120</td>\n",
       "      <td>100</td>\n",
       "      <td>70</td>\n",
       "      <td>10</td>\n",
       "    </tr>\n",
       "    <tr>\n",
       "      <th>19</th>\n",
       "      <td>21</td>\n",
       "      <td>69.0</td>\n",
       "      <td>155.1</td>\n",
       "      <td>61.6</td>\n",
       "      <td>25.6</td>\n",
       "      <td>1.0</td>\n",
       "      <td>0</td>\n",
       "      <td>0</td>\n",
       "      <td>13.3</td>\n",
       "      <td>304.0</td>\n",
       "      <td>116.0</td>\n",
       "      <td>32.9</td>\n",
       "      <td>141.0</td>\n",
       "      <td>4.4</td>\n",
       "      <td>73.0</td>\n",
       "      <td>4.6</td>\n",
       "      <td>20.0</td>\n",
       "      <td>18.0</td>\n",
       "      <td>15.0</td>\n",
       "      <td>0.65</td>\n",
       "      <td>300.0</td>\n",
       "      <td>350.0</td>\n",
       "      <td>750.0</td>\n",
       "      <td>100</td>\n",
       "      <td>100</td>\n",
       "      <td>100</td>\n",
       "      <td>10</td>\n",
       "    </tr>\n",
       "    <tr>\n",
       "      <th>28</th>\n",
       "      <td>30</td>\n",
       "      <td>59.0</td>\n",
       "      <td>166.4</td>\n",
       "      <td>57.6</td>\n",
       "      <td>20.8</td>\n",
       "      <td>2.0</td>\n",
       "      <td>0</td>\n",
       "      <td>0</td>\n",
       "      <td>13.2</td>\n",
       "      <td>397.0</td>\n",
       "      <td>88.0</td>\n",
       "      <td>32.3</td>\n",
       "      <td>141.0</td>\n",
       "      <td>4.1</td>\n",
       "      <td>171.0</td>\n",
       "      <td>3.6</td>\n",
       "      <td>21.0</td>\n",
       "      <td>15.0</td>\n",
       "      <td>11.0</td>\n",
       "      <td>0.58</td>\n",
       "      <td>NaN</td>\n",
       "      <td>120.0</td>\n",
       "      <td>NaN</td>\n",
       "      <td>0</td>\n",
       "      <td>0</td>\n",
       "      <td>90</td>\n",
       "      <td>5</td>\n",
       "    </tr>\n",
       "    <tr>\n",
       "      <th>47</th>\n",
       "      <td>50</td>\n",
       "      <td>47.0</td>\n",
       "      <td>158.1</td>\n",
       "      <td>51.6</td>\n",
       "      <td>20.6</td>\n",
       "      <td>2.0</td>\n",
       "      <td>0</td>\n",
       "      <td>0</td>\n",
       "      <td>10.8</td>\n",
       "      <td>377.0</td>\n",
       "      <td>90.0</td>\n",
       "      <td>40.2</td>\n",
       "      <td>140.0</td>\n",
       "      <td>4.3</td>\n",
       "      <td>96.0</td>\n",
       "      <td>4.3</td>\n",
       "      <td>22.0</td>\n",
       "      <td>41.0</td>\n",
       "      <td>7.0</td>\n",
       "      <td>0.67</td>\n",
       "      <td>1100.0</td>\n",
       "      <td>400.0</td>\n",
       "      <td>2650.0</td>\n",
       "      <td>0</td>\n",
       "      <td>0</td>\n",
       "      <td>100</td>\n",
       "      <td>5</td>\n",
       "    </tr>\n",
       "    <tr>\n",
       "      <th>53</th>\n",
       "      <td>57</td>\n",
       "      <td>67.0</td>\n",
       "      <td>169.4</td>\n",
       "      <td>69.7</td>\n",
       "      <td>24.3</td>\n",
       "      <td>2.0</td>\n",
       "      <td>0</td>\n",
       "      <td>0</td>\n",
       "      <td>14.8</td>\n",
       "      <td>299.0</td>\n",
       "      <td>120.0</td>\n",
       "      <td>33.0</td>\n",
       "      <td>142.0</td>\n",
       "      <td>3.7</td>\n",
       "      <td>98.0</td>\n",
       "      <td>4.4</td>\n",
       "      <td>22.0</td>\n",
       "      <td>14.0</td>\n",
       "      <td>11.0</td>\n",
       "      <td>1.06</td>\n",
       "      <td>NaN</td>\n",
       "      <td>10.0</td>\n",
       "      <td>650.0</td>\n",
       "      <td>0</td>\n",
       "      <td>0</td>\n",
       "      <td>75</td>\n",
       "      <td>5</td>\n",
       "    </tr>\n",
       "    <tr>\n",
       "      <th>...</th>\n",
       "      <td>...</td>\n",
       "      <td>...</td>\n",
       "      <td>...</td>\n",
       "      <td>...</td>\n",
       "      <td>...</td>\n",
       "      <td>...</td>\n",
       "      <td>...</td>\n",
       "      <td>...</td>\n",
       "      <td>...</td>\n",
       "      <td>...</td>\n",
       "      <td>...</td>\n",
       "      <td>...</td>\n",
       "      <td>...</td>\n",
       "      <td>...</td>\n",
       "      <td>...</td>\n",
       "      <td>...</td>\n",
       "      <td>...</td>\n",
       "      <td>...</td>\n",
       "      <td>...</td>\n",
       "      <td>...</td>\n",
       "      <td>...</td>\n",
       "      <td>...</td>\n",
       "      <td>...</td>\n",
       "      <td>...</td>\n",
       "      <td>...</td>\n",
       "      <td>...</td>\n",
       "      <td>...</td>\n",
       "    </tr>\n",
       "    <tr>\n",
       "      <th>5887</th>\n",
       "      <td>6352</td>\n",
       "      <td>68.0</td>\n",
       "      <td>170.2</td>\n",
       "      <td>57.5</td>\n",
       "      <td>19.8</td>\n",
       "      <td>1.0</td>\n",
       "      <td>0</td>\n",
       "      <td>0</td>\n",
       "      <td>12.3</td>\n",
       "      <td>197.0</td>\n",
       "      <td>90.0</td>\n",
       "      <td>33.7</td>\n",
       "      <td>142.0</td>\n",
       "      <td>4.1</td>\n",
       "      <td>100.0</td>\n",
       "      <td>3.8</td>\n",
       "      <td>16.0</td>\n",
       "      <td>12.0</td>\n",
       "      <td>19.0</td>\n",
       "      <td>0.74</td>\n",
       "      <td>50.0</td>\n",
       "      <td>250.0</td>\n",
       "      <td>700.0</td>\n",
       "      <td>0</td>\n",
       "      <td>0</td>\n",
       "      <td>90</td>\n",
       "      <td>15</td>\n",
       "    </tr>\n",
       "    <tr>\n",
       "      <th>5891</th>\n",
       "      <td>6356</td>\n",
       "      <td>65.0</td>\n",
       "      <td>166.6</td>\n",
       "      <td>54.3</td>\n",
       "      <td>19.6</td>\n",
       "      <td>2.0</td>\n",
       "      <td>0</td>\n",
       "      <td>1</td>\n",
       "      <td>13.5</td>\n",
       "      <td>296.0</td>\n",
       "      <td>89.0</td>\n",
       "      <td>31.7</td>\n",
       "      <td>138.0</td>\n",
       "      <td>4.4</td>\n",
       "      <td>103.0</td>\n",
       "      <td>3.9</td>\n",
       "      <td>14.0</td>\n",
       "      <td>9.0</td>\n",
       "      <td>15.0</td>\n",
       "      <td>0.99</td>\n",
       "      <td>450.0</td>\n",
       "      <td>350.0</td>\n",
       "      <td>2800.0</td>\n",
       "      <td>100</td>\n",
       "      <td>100</td>\n",
       "      <td>140</td>\n",
       "      <td>15</td>\n",
       "    </tr>\n",
       "    <tr>\n",
       "      <th>5893</th>\n",
       "      <td>6358</td>\n",
       "      <td>74.0</td>\n",
       "      <td>154.7</td>\n",
       "      <td>50.4</td>\n",
       "      <td>21.1</td>\n",
       "      <td>2.0</td>\n",
       "      <td>1</td>\n",
       "      <td>0</td>\n",
       "      <td>8.5</td>\n",
       "      <td>184.0</td>\n",
       "      <td>114.0</td>\n",
       "      <td>30.2</td>\n",
       "      <td>140.0</td>\n",
       "      <td>4.6</td>\n",
       "      <td>232.0</td>\n",
       "      <td>3.8</td>\n",
       "      <td>54.0</td>\n",
       "      <td>68.0</td>\n",
       "      <td>20.0</td>\n",
       "      <td>0.73</td>\n",
       "      <td>300.0</td>\n",
       "      <td>265.0</td>\n",
       "      <td>1700.0</td>\n",
       "      <td>0</td>\n",
       "      <td>0</td>\n",
       "      <td>80</td>\n",
       "      <td>55</td>\n",
       "    </tr>\n",
       "    <tr>\n",
       "      <th>5895</th>\n",
       "      <td>6360</td>\n",
       "      <td>41.0</td>\n",
       "      <td>165.2</td>\n",
       "      <td>53.9</td>\n",
       "      <td>19.8</td>\n",
       "      <td>1.0</td>\n",
       "      <td>0</td>\n",
       "      <td>0</td>\n",
       "      <td>11.7</td>\n",
       "      <td>319.0</td>\n",
       "      <td>88.0</td>\n",
       "      <td>30.9</td>\n",
       "      <td>139.0</td>\n",
       "      <td>3.6</td>\n",
       "      <td>106.0</td>\n",
       "      <td>3.5</td>\n",
       "      <td>12.0</td>\n",
       "      <td>4.0</td>\n",
       "      <td>5.0</td>\n",
       "      <td>0.53</td>\n",
       "      <td>400.0</td>\n",
       "      <td>180.0</td>\n",
       "      <td>1800.0</td>\n",
       "      <td>100</td>\n",
       "      <td>0</td>\n",
       "      <td>100</td>\n",
       "      <td>15</td>\n",
       "    </tr>\n",
       "    <tr>\n",
       "      <th>5918</th>\n",
       "      <td>6385</td>\n",
       "      <td>69.0</td>\n",
       "      <td>159.3</td>\n",
       "      <td>62.3</td>\n",
       "      <td>24.6</td>\n",
       "      <td>2.0</td>\n",
       "      <td>1</td>\n",
       "      <td>0</td>\n",
       "      <td>15.2</td>\n",
       "      <td>239.0</td>\n",
       "      <td>114.0</td>\n",
       "      <td>28.7</td>\n",
       "      <td>144.0</td>\n",
       "      <td>4.0</td>\n",
       "      <td>140.0</td>\n",
       "      <td>3.7</td>\n",
       "      <td>18.0</td>\n",
       "      <td>28.0</td>\n",
       "      <td>19.0</td>\n",
       "      <td>0.84</td>\n",
       "      <td>100.0</td>\n",
       "      <td>250.0</td>\n",
       "      <td>2500.0</td>\n",
       "      <td>100</td>\n",
       "      <td>0</td>\n",
       "      <td>100</td>\n",
       "      <td>25</td>\n",
       "    </tr>\n",
       "  </tbody>\n",
       "</table>\n",
       "<p>604 rows × 27 columns</p>\n",
       "</div>"
      ],
      "text/plain": [
       "      caseid   age  height  weight   bmi  asa  preop_htn  preop_dm  preop_hb  \\\n",
       "0          1  77.0   160.2    67.5  26.3  2.0          1         0      14.1   \n",
       "19        21  69.0   155.1    61.6  25.6  1.0          0         0      13.3   \n",
       "28        30  59.0   166.4    57.6  20.8  2.0          0         0      13.2   \n",
       "47        50  47.0   158.1    51.6  20.6  2.0          0         0      10.8   \n",
       "53        57  67.0   169.4    69.7  24.3  2.0          0         0      14.8   \n",
       "...      ...   ...     ...     ...   ...  ...        ...       ...       ...   \n",
       "5887    6352  68.0   170.2    57.5  19.8  1.0          0         0      12.3   \n",
       "5891    6356  65.0   166.6    54.3  19.6  2.0          0         1      13.5   \n",
       "5893    6358  74.0   154.7    50.4  21.1  2.0          1         0       8.5   \n",
       "5895    6360  41.0   165.2    53.9  19.8  1.0          0         0      11.7   \n",
       "5918    6385  69.0   159.3    62.3  24.6  2.0          1         0      15.2   \n",
       "\n",
       "      preop_plt  preop_pt  preop_aptt  preop_na  preop_k  preop_gluc  \\\n",
       "0         189.0      94.0        33.2     141.0      3.1       134.0   \n",
       "19        304.0     116.0        32.9     141.0      4.4        73.0   \n",
       "28        397.0      88.0        32.3     141.0      4.1       171.0   \n",
       "47        377.0      90.0        40.2     140.0      4.3        96.0   \n",
       "53        299.0     120.0        33.0     142.0      3.7        98.0   \n",
       "...         ...       ...         ...       ...      ...         ...   \n",
       "5887      197.0      90.0        33.7     142.0      4.1       100.0   \n",
       "5891      296.0      89.0        31.7     138.0      4.4       103.0   \n",
       "5893      184.0     114.0        30.2     140.0      4.6       232.0   \n",
       "5895      319.0      88.0        30.9     139.0      3.6       106.0   \n",
       "5918      239.0     114.0        28.7     144.0      4.0       140.0   \n",
       "\n",
       "      preop_alb  preop_ast  preop_alt  preop_bun  preop_cr  intraop_ebl  \\\n",
       "0           4.3       18.0       16.0       10.0      0.82          NaN   \n",
       "19          4.6       20.0       18.0       15.0      0.65        300.0   \n",
       "28          3.6       21.0       15.0       11.0      0.58          NaN   \n",
       "47          4.3       22.0       41.0        7.0      0.67       1100.0   \n",
       "53          4.4       22.0       14.0       11.0      1.06          NaN   \n",
       "...         ...        ...        ...        ...       ...          ...   \n",
       "5887        3.8       16.0       12.0       19.0      0.74         50.0   \n",
       "5891        3.9       14.0        9.0       15.0      0.99        450.0   \n",
       "5893        3.8       54.0       68.0       20.0      0.73        300.0   \n",
       "5895        3.5       12.0        4.0        5.0      0.53        400.0   \n",
       "5918        3.7       18.0       28.0       19.0      0.84        100.0   \n",
       "\n",
       "      intraop_uo  intraop_crystalloid  intraop_ppf  intraop_ftn  intraop_rocu  \\\n",
       "0          300.0                350.0          120          100            70   \n",
       "19         350.0                750.0          100          100           100   \n",
       "28         120.0                  NaN            0            0            90   \n",
       "47         400.0               2650.0            0            0           100   \n",
       "53          10.0                650.0            0            0            75   \n",
       "...          ...                  ...          ...          ...           ...   \n",
       "5887       250.0                700.0            0            0            90   \n",
       "5891       350.0               2800.0          100          100           140   \n",
       "5893       265.0               1700.0            0            0            80   \n",
       "5895       180.0               1800.0          100            0           100   \n",
       "5918       250.0               2500.0          100            0           100   \n",
       "\n",
       "      intraop_eph  \n",
       "0              10  \n",
       "19             10  \n",
       "28              5  \n",
       "47              5  \n",
       "53              5  \n",
       "...           ...  \n",
       "5887           15  \n",
       "5891           15  \n",
       "5893           55  \n",
       "5895           15  \n",
       "5918           25  \n",
       "\n",
       "[604 rows x 27 columns]"
      ]
     },
     "execution_count": 10,
     "metadata": {},
     "output_type": "execute_result"
    }
   ],
   "source": [
    "data1"
   ]
  },
  {
   "cell_type": "code",
   "execution_count": 11,
   "id": "cdb366f5",
   "metadata": {},
   "outputs": [
    {
     "data": {
      "text/plain": [
       "caseid                   0\n",
       "age                      0\n",
       "height                   0\n",
       "weight                   0\n",
       "bmi                      0\n",
       "asa                     10\n",
       "preop_htn                0\n",
       "preop_dm                 0\n",
       "preop_hb                16\n",
       "preop_plt               13\n",
       "preop_pt                17\n",
       "preop_aptt              18\n",
       "preop_na                36\n",
       "preop_k                 36\n",
       "preop_gluc              13\n",
       "preop_alb               16\n",
       "preop_ast               13\n",
       "preop_alt               13\n",
       "preop_bun               14\n",
       "preop_cr                17\n",
       "intraop_ebl            145\n",
       "intraop_uo              74\n",
       "intraop_crystalloid     15\n",
       "intraop_ppf              0\n",
       "intraop_ftn              0\n",
       "intraop_rocu             0\n",
       "intraop_eph              0\n",
       "dtype: int64"
      ]
     },
     "execution_count": 11,
     "metadata": {},
     "output_type": "execute_result"
    }
   ],
   "source": [
    "data1.isna().sum()"
   ]
  },
  {
   "cell_type": "code",
   "execution_count": 12,
   "id": "59532f32",
   "metadata": {},
   "outputs": [],
   "source": [
    "data = data1.fillna(-1)\n",
    "data = data.drop(['intraop_ebl'], axis=1)"
   ]
  },
  {
   "cell_type": "code",
   "execution_count": 18,
   "id": "d06220e2",
   "metadata": {},
   "outputs": [],
   "source": [
    "from sklearn.cluster import KMeans\n",
    "from sklearn.preprocessing import MinMaxScaler\n",
    "import plotly.graph_objects as go\n",
    "import numpy as np\n",
    "import plotly.express as px"
   ]
  },
  {
   "cell_type": "code",
   "execution_count": 20,
   "id": "1920f037",
   "metadata": {},
   "outputs": [
    {
     "data": {
      "application/vnd.plotly.v1+json": {
       "config": {
        "plotlyServerURL": "https://plot.ly"
       },
       "data": [
        {
         "type": "scatter",
         "x": [
          1,
          2,
          3,
          4,
          5,
          6,
          7,
          8,
          9,
          10
         ],
         "y": [
          574.1332991767769,
          426.1844287804636,
          369.9978531546858,
          319.38026574022217,
          282.9835454335171,
          249.93926056920407,
          229.27670925804142,
          214.67247495841747,
          207.61557806759117,
          197.56666181989854
         ]
        }
       ],
       "layout": {
        "annotations": [
         {
          "arrowhead": 7,
          "ax": 20,
          "ay": -40,
          "showarrow": true,
          "text": "Elbow!",
          "x": 3,
          "xref": "x",
          "y": 369.9978531546858,
          "yref": "y"
         }
        ],
        "template": {
         "data": {
          "bar": [
           {
            "error_x": {
             "color": "#2a3f5f"
            },
            "error_y": {
             "color": "#2a3f5f"
            },
            "marker": {
             "line": {
              "color": "#E5ECF6",
              "width": 0.5
             },
             "pattern": {
              "fillmode": "overlay",
              "size": 10,
              "solidity": 0.2
             }
            },
            "type": "bar"
           }
          ],
          "barpolar": [
           {
            "marker": {
             "line": {
              "color": "#E5ECF6",
              "width": 0.5
             },
             "pattern": {
              "fillmode": "overlay",
              "size": 10,
              "solidity": 0.2
             }
            },
            "type": "barpolar"
           }
          ],
          "carpet": [
           {
            "aaxis": {
             "endlinecolor": "#2a3f5f",
             "gridcolor": "white",
             "linecolor": "white",
             "minorgridcolor": "white",
             "startlinecolor": "#2a3f5f"
            },
            "baxis": {
             "endlinecolor": "#2a3f5f",
             "gridcolor": "white",
             "linecolor": "white",
             "minorgridcolor": "white",
             "startlinecolor": "#2a3f5f"
            },
            "type": "carpet"
           }
          ],
          "choropleth": [
           {
            "colorbar": {
             "outlinewidth": 0,
             "ticks": ""
            },
            "type": "choropleth"
           }
          ],
          "contour": [
           {
            "colorbar": {
             "outlinewidth": 0,
             "ticks": ""
            },
            "colorscale": [
             [
              0,
              "#0d0887"
             ],
             [
              0.1111111111111111,
              "#46039f"
             ],
             [
              0.2222222222222222,
              "#7201a8"
             ],
             [
              0.3333333333333333,
              "#9c179e"
             ],
             [
              0.4444444444444444,
              "#bd3786"
             ],
             [
              0.5555555555555556,
              "#d8576b"
             ],
             [
              0.6666666666666666,
              "#ed7953"
             ],
             [
              0.7777777777777778,
              "#fb9f3a"
             ],
             [
              0.8888888888888888,
              "#fdca26"
             ],
             [
              1,
              "#f0f921"
             ]
            ],
            "type": "contour"
           }
          ],
          "contourcarpet": [
           {
            "colorbar": {
             "outlinewidth": 0,
             "ticks": ""
            },
            "type": "contourcarpet"
           }
          ],
          "heatmap": [
           {
            "colorbar": {
             "outlinewidth": 0,
             "ticks": ""
            },
            "colorscale": [
             [
              0,
              "#0d0887"
             ],
             [
              0.1111111111111111,
              "#46039f"
             ],
             [
              0.2222222222222222,
              "#7201a8"
             ],
             [
              0.3333333333333333,
              "#9c179e"
             ],
             [
              0.4444444444444444,
              "#bd3786"
             ],
             [
              0.5555555555555556,
              "#d8576b"
             ],
             [
              0.6666666666666666,
              "#ed7953"
             ],
             [
              0.7777777777777778,
              "#fb9f3a"
             ],
             [
              0.8888888888888888,
              "#fdca26"
             ],
             [
              1,
              "#f0f921"
             ]
            ],
            "type": "heatmap"
           }
          ],
          "heatmapgl": [
           {
            "colorbar": {
             "outlinewidth": 0,
             "ticks": ""
            },
            "colorscale": [
             [
              0,
              "#0d0887"
             ],
             [
              0.1111111111111111,
              "#46039f"
             ],
             [
              0.2222222222222222,
              "#7201a8"
             ],
             [
              0.3333333333333333,
              "#9c179e"
             ],
             [
              0.4444444444444444,
              "#bd3786"
             ],
             [
              0.5555555555555556,
              "#d8576b"
             ],
             [
              0.6666666666666666,
              "#ed7953"
             ],
             [
              0.7777777777777778,
              "#fb9f3a"
             ],
             [
              0.8888888888888888,
              "#fdca26"
             ],
             [
              1,
              "#f0f921"
             ]
            ],
            "type": "heatmapgl"
           }
          ],
          "histogram": [
           {
            "marker": {
             "pattern": {
              "fillmode": "overlay",
              "size": 10,
              "solidity": 0.2
             }
            },
            "type": "histogram"
           }
          ],
          "histogram2d": [
           {
            "colorbar": {
             "outlinewidth": 0,
             "ticks": ""
            },
            "colorscale": [
             [
              0,
              "#0d0887"
             ],
             [
              0.1111111111111111,
              "#46039f"
             ],
             [
              0.2222222222222222,
              "#7201a8"
             ],
             [
              0.3333333333333333,
              "#9c179e"
             ],
             [
              0.4444444444444444,
              "#bd3786"
             ],
             [
              0.5555555555555556,
              "#d8576b"
             ],
             [
              0.6666666666666666,
              "#ed7953"
             ],
             [
              0.7777777777777778,
              "#fb9f3a"
             ],
             [
              0.8888888888888888,
              "#fdca26"
             ],
             [
              1,
              "#f0f921"
             ]
            ],
            "type": "histogram2d"
           }
          ],
          "histogram2dcontour": [
           {
            "colorbar": {
             "outlinewidth": 0,
             "ticks": ""
            },
            "colorscale": [
             [
              0,
              "#0d0887"
             ],
             [
              0.1111111111111111,
              "#46039f"
             ],
             [
              0.2222222222222222,
              "#7201a8"
             ],
             [
              0.3333333333333333,
              "#9c179e"
             ],
             [
              0.4444444444444444,
              "#bd3786"
             ],
             [
              0.5555555555555556,
              "#d8576b"
             ],
             [
              0.6666666666666666,
              "#ed7953"
             ],
             [
              0.7777777777777778,
              "#fb9f3a"
             ],
             [
              0.8888888888888888,
              "#fdca26"
             ],
             [
              1,
              "#f0f921"
             ]
            ],
            "type": "histogram2dcontour"
           }
          ],
          "mesh3d": [
           {
            "colorbar": {
             "outlinewidth": 0,
             "ticks": ""
            },
            "type": "mesh3d"
           }
          ],
          "parcoords": [
           {
            "line": {
             "colorbar": {
              "outlinewidth": 0,
              "ticks": ""
             }
            },
            "type": "parcoords"
           }
          ],
          "pie": [
           {
            "automargin": true,
            "type": "pie"
           }
          ],
          "scatter": [
           {
            "fillpattern": {
             "fillmode": "overlay",
             "size": 10,
             "solidity": 0.2
            },
            "type": "scatter"
           }
          ],
          "scatter3d": [
           {
            "line": {
             "colorbar": {
              "outlinewidth": 0,
              "ticks": ""
             }
            },
            "marker": {
             "colorbar": {
              "outlinewidth": 0,
              "ticks": ""
             }
            },
            "type": "scatter3d"
           }
          ],
          "scattercarpet": [
           {
            "marker": {
             "colorbar": {
              "outlinewidth": 0,
              "ticks": ""
             }
            },
            "type": "scattercarpet"
           }
          ],
          "scattergeo": [
           {
            "marker": {
             "colorbar": {
              "outlinewidth": 0,
              "ticks": ""
             }
            },
            "type": "scattergeo"
           }
          ],
          "scattergl": [
           {
            "marker": {
             "colorbar": {
              "outlinewidth": 0,
              "ticks": ""
             }
            },
            "type": "scattergl"
           }
          ],
          "scattermapbox": [
           {
            "marker": {
             "colorbar": {
              "outlinewidth": 0,
              "ticks": ""
             }
            },
            "type": "scattermapbox"
           }
          ],
          "scatterpolar": [
           {
            "marker": {
             "colorbar": {
              "outlinewidth": 0,
              "ticks": ""
             }
            },
            "type": "scatterpolar"
           }
          ],
          "scatterpolargl": [
           {
            "marker": {
             "colorbar": {
              "outlinewidth": 0,
              "ticks": ""
             }
            },
            "type": "scatterpolargl"
           }
          ],
          "scatterternary": [
           {
            "marker": {
             "colorbar": {
              "outlinewidth": 0,
              "ticks": ""
             }
            },
            "type": "scatterternary"
           }
          ],
          "surface": [
           {
            "colorbar": {
             "outlinewidth": 0,
             "ticks": ""
            },
            "colorscale": [
             [
              0,
              "#0d0887"
             ],
             [
              0.1111111111111111,
              "#46039f"
             ],
             [
              0.2222222222222222,
              "#7201a8"
             ],
             [
              0.3333333333333333,
              "#9c179e"
             ],
             [
              0.4444444444444444,
              "#bd3786"
             ],
             [
              0.5555555555555556,
              "#d8576b"
             ],
             [
              0.6666666666666666,
              "#ed7953"
             ],
             [
              0.7777777777777778,
              "#fb9f3a"
             ],
             [
              0.8888888888888888,
              "#fdca26"
             ],
             [
              1,
              "#f0f921"
             ]
            ],
            "type": "surface"
           }
          ],
          "table": [
           {
            "cells": {
             "fill": {
              "color": "#EBF0F8"
             },
             "line": {
              "color": "white"
             }
            },
            "header": {
             "fill": {
              "color": "#C8D4E3"
             },
             "line": {
              "color": "white"
             }
            },
            "type": "table"
           }
          ]
         },
         "layout": {
          "annotationdefaults": {
           "arrowcolor": "#2a3f5f",
           "arrowhead": 0,
           "arrowwidth": 1
          },
          "autotypenumbers": "strict",
          "coloraxis": {
           "colorbar": {
            "outlinewidth": 0,
            "ticks": ""
           }
          },
          "colorscale": {
           "diverging": [
            [
             0,
             "#8e0152"
            ],
            [
             0.1,
             "#c51b7d"
            ],
            [
             0.2,
             "#de77ae"
            ],
            [
             0.3,
             "#f1b6da"
            ],
            [
             0.4,
             "#fde0ef"
            ],
            [
             0.5,
             "#f7f7f7"
            ],
            [
             0.6,
             "#e6f5d0"
            ],
            [
             0.7,
             "#b8e186"
            ],
            [
             0.8,
             "#7fbc41"
            ],
            [
             0.9,
             "#4d9221"
            ],
            [
             1,
             "#276419"
            ]
           ],
           "sequential": [
            [
             0,
             "#0d0887"
            ],
            [
             0.1111111111111111,
             "#46039f"
            ],
            [
             0.2222222222222222,
             "#7201a8"
            ],
            [
             0.3333333333333333,
             "#9c179e"
            ],
            [
             0.4444444444444444,
             "#bd3786"
            ],
            [
             0.5555555555555556,
             "#d8576b"
            ],
            [
             0.6666666666666666,
             "#ed7953"
            ],
            [
             0.7777777777777778,
             "#fb9f3a"
            ],
            [
             0.8888888888888888,
             "#fdca26"
            ],
            [
             1,
             "#f0f921"
            ]
           ],
           "sequentialminus": [
            [
             0,
             "#0d0887"
            ],
            [
             0.1111111111111111,
             "#46039f"
            ],
            [
             0.2222222222222222,
             "#7201a8"
            ],
            [
             0.3333333333333333,
             "#9c179e"
            ],
            [
             0.4444444444444444,
             "#bd3786"
            ],
            [
             0.5555555555555556,
             "#d8576b"
            ],
            [
             0.6666666666666666,
             "#ed7953"
            ],
            [
             0.7777777777777778,
             "#fb9f3a"
            ],
            [
             0.8888888888888888,
             "#fdca26"
            ],
            [
             1,
             "#f0f921"
            ]
           ]
          },
          "colorway": [
           "#636efa",
           "#EF553B",
           "#00cc96",
           "#ab63fa",
           "#FFA15A",
           "#19d3f3",
           "#FF6692",
           "#B6E880",
           "#FF97FF",
           "#FECB52"
          ],
          "font": {
           "color": "#2a3f5f"
          },
          "geo": {
           "bgcolor": "white",
           "lakecolor": "white",
           "landcolor": "#E5ECF6",
           "showlakes": true,
           "showland": true,
           "subunitcolor": "white"
          },
          "hoverlabel": {
           "align": "left"
          },
          "hovermode": "closest",
          "mapbox": {
           "style": "light"
          },
          "paper_bgcolor": "white",
          "plot_bgcolor": "#E5ECF6",
          "polar": {
           "angularaxis": {
            "gridcolor": "white",
            "linecolor": "white",
            "ticks": ""
           },
           "bgcolor": "#E5ECF6",
           "radialaxis": {
            "gridcolor": "white",
            "linecolor": "white",
            "ticks": ""
           }
          },
          "scene": {
           "xaxis": {
            "backgroundcolor": "#E5ECF6",
            "gridcolor": "white",
            "gridwidth": 2,
            "linecolor": "white",
            "showbackground": true,
            "ticks": "",
            "zerolinecolor": "white"
           },
           "yaxis": {
            "backgroundcolor": "#E5ECF6",
            "gridcolor": "white",
            "gridwidth": 2,
            "linecolor": "white",
            "showbackground": true,
            "ticks": "",
            "zerolinecolor": "white"
           },
           "zaxis": {
            "backgroundcolor": "#E5ECF6",
            "gridcolor": "white",
            "gridwidth": 2,
            "linecolor": "white",
            "showbackground": true,
            "ticks": "",
            "zerolinecolor": "white"
           }
          },
          "shapedefaults": {
           "line": {
            "color": "#2a3f5f"
           }
          },
          "ternary": {
           "aaxis": {
            "gridcolor": "white",
            "linecolor": "white",
            "ticks": ""
           },
           "baxis": {
            "gridcolor": "white",
            "linecolor": "white",
            "ticks": ""
           },
           "bgcolor": "#E5ECF6",
           "caxis": {
            "gridcolor": "white",
            "linecolor": "white",
            "ticks": ""
           }
          },
          "title": {
           "x": 0.05
          },
          "xaxis": {
           "automargin": true,
           "gridcolor": "white",
           "linecolor": "white",
           "ticks": "",
           "title": {
            "standoff": 15
           },
           "zerolinecolor": "white",
           "zerolinewidth": 2
          },
          "yaxis": {
           "automargin": true,
           "gridcolor": "white",
           "linecolor": "white",
           "ticks": "",
           "title": {
            "standoff": 15
           },
           "zerolinecolor": "white",
           "zerolinewidth": 2
          }
         }
        },
        "title": {
         "text": "Inertia vs Cluster Number"
        },
        "xaxis": {
         "range": [
          0,
          11
         ],
         "title": {
          "text": "Cluster Number"
         }
        },
        "yaxis": {
         "title": {
          "text": "Inertia"
         }
        }
       }
      }
     },
     "metadata": {},
     "output_type": "display_data"
    }
   ],
   "source": [
    "# elbow plot\n",
    "\n",
    "X=data.drop(\"caseid\",axis=1)\n",
    "scaler = MinMaxScaler()\n",
    "scaler.fit(X)\n",
    "X=scaler.transform(X)\n",
    "inertia = []\n",
    "for i in range(1,11):\n",
    "    kmeans = KMeans(\n",
    "        n_clusters=i, init=\"k-means++\",\n",
    "        n_init=10,\n",
    "        tol=1e-04, random_state=44\n",
    "    )\n",
    "    kmeans.fit(X)\n",
    "    inertia.append(kmeans.inertia_)\n",
    "fig = go.Figure(data=go.Scatter(x=np.arange(1,11),y=inertia))\n",
    "fig.update_layout(title=\"Inertia vs Cluster Number\",xaxis=dict(range=[0,11],title=\"Cluster Number\"),\n",
    "                  yaxis={'title':'Inertia'},\n",
    "                 annotations=[\n",
    "        dict(\n",
    "            x=3,\n",
    "            y=inertia[2],\n",
    "            xref=\"x\",\n",
    "            yref=\"y\",\n",
    "            text=\"Elbow!\",\n",
    "            showarrow=True,\n",
    "            arrowhead=7,\n",
    "            ax=20,\n",
    "            ay=-40\n",
    "        )\n",
    "    ])"
   ]
  },
  {
   "cell_type": "code",
   "execution_count": 24,
   "id": "ffef757c",
   "metadata": {},
   "outputs": [],
   "source": [
    "kmeans = KMeans(\n",
    "        n_clusters=3, init=\"k-means++\",\n",
    "        n_init=10,\n",
    "        tol=1e-04, random_state=4\n",
    "    )"
   ]
  },
  {
   "cell_type": "code",
   "execution_count": 25,
   "id": "527959b2",
   "metadata": {},
   "outputs": [],
   "source": [
    "kmeans.fit(X)\n",
    "clusters=pd.DataFrame(X,columns=data.drop(\"caseid\",axis=1).columns)\n",
    "clusters['label']=kmeans.labels_"
   ]
  },
  {
   "cell_type": "code",
   "execution_count": 26,
   "id": "311ea1b8",
   "metadata": {},
   "outputs": [],
   "source": [
    "polar=clusters.groupby(\"label\").mean().reset_index()\n",
    "polar=pd.melt(polar,id_vars=[\"label\"])"
   ]
  },
  {
   "cell_type": "code",
   "execution_count": 28,
   "id": "fa18452e",
   "metadata": {},
   "outputs": [
    {
     "name": "stderr",
     "output_type": "stream",
     "text": [
      "/Library/Frameworks/Python.framework/Versions/3.9/lib/python3.9/site-packages/plotly/express/_core.py:271: FutureWarning:\n",
      "\n",
      "The frame.append method is deprecated and will be removed from pandas in a future version. Use pandas.concat instead.\n",
      "\n",
      "/Library/Frameworks/Python.framework/Versions/3.9/lib/python3.9/site-packages/plotly/express/_core.py:271: FutureWarning:\n",
      "\n",
      "The frame.append method is deprecated and will be removed from pandas in a future version. Use pandas.concat instead.\n",
      "\n",
      "/Library/Frameworks/Python.framework/Versions/3.9/lib/python3.9/site-packages/plotly/express/_core.py:271: FutureWarning:\n",
      "\n",
      "The frame.append method is deprecated and will be removed from pandas in a future version. Use pandas.concat instead.\n",
      "\n"
     ]
    },
    {
     "data": {
      "application/vnd.plotly.v1+json": {
       "config": {
        "plotlyServerURL": "https://plot.ly"
       },
       "data": [
        {
         "hovertemplate": "label=0<br>value=%{r}<br>variable=%{theta}<extra></extra>",
         "legendgroup": "0",
         "line": {
          "color": "#636efa",
          "dash": "solid"
         },
         "marker": {
          "symbol": "circle"
         },
         "mode": "lines",
         "name": "0",
         "r": [
          0.6521909233176838,
          0.48078703703703723,
          0.3694312079267832,
          0.39689071787837216,
          0.3722222222222223,
          0.3055555555555556,
          0.1388888888888889,
          0.36543501048218036,
          0.2853694927154643,
          0.4584347120843471,
          0.233057747713892,
          0,
          0,
          0.1498480902777778,
          0.47268518518518515,
          0.09498722860791825,
          0.08187134502923976,
          0.17264957264957265,
          0.08724105461393597,
          0.08353526174970972,
          0.1160324734691988,
          0.4166666666666667,
          0.22916666666666666,
          0.4166666666666667,
          0.1505847953216374,
          0.6521909233176838
         ],
         "showlegend": true,
         "subplot": "polar",
         "theta": [
          "age",
          "height",
          "weight",
          "bmi",
          "asa",
          "preop_htn",
          "preop_dm",
          "preop_hb",
          "preop_plt",
          "preop_pt",
          "preop_aptt",
          "preop_na",
          "preop_k",
          "preop_gluc",
          "preop_alb",
          "preop_ast",
          "preop_alt",
          "preop_bun",
          "preop_cr",
          "intraop_uo",
          "intraop_crystalloid",
          "intraop_ppf",
          "intraop_ftn",
          "intraop_rocu",
          "intraop_eph",
          "age"
         ],
         "type": "scatterpolar"
        },
        {
         "hovertemplate": "label=1<br>value=%{r}<br>variable=%{theta}<extra></extra>",
         "legendgroup": "1",
         "line": {
          "color": "#EF553B",
          "dash": "solid"
         },
         "marker": {
          "symbol": "circle"
         },
         "mode": "lines",
         "name": "1",
         "r": [
          0.5716367168528411,
          0.5520893199233718,
          0.3953897795826389,
          0.38975214039070993,
          0.5356321839080461,
          0,
          0.10632183908045977,
          0.6326854261548471,
          0.41643060776089047,
          0.732066448527561,
          0.37514092446448705,
          0.9504937128751061,
          0.7735109717868339,
          0.22318943067528735,
          0.8297892720306513,
          0.13299312987184567,
          0.133942075015124,
          0.2233863837312113,
          0.15480956555620493,
          0.08738974447351516,
          0.10359582993629735,
          0.3538314176245211,
          0.12428160919540229,
          0.4288936781609195,
          0.09482758620689655,
          0.5716367168528411
         ],
         "showlegend": true,
         "subplot": "polar",
         "theta": [
          "age",
          "height",
          "weight",
          "bmi",
          "asa",
          "preop_htn",
          "preop_dm",
          "preop_hb",
          "preop_plt",
          "preop_pt",
          "preop_aptt",
          "preop_na",
          "preop_k",
          "preop_gluc",
          "preop_alb",
          "preop_ast",
          "preop_alt",
          "preop_bun",
          "preop_cr",
          "intraop_uo",
          "intraop_crystalloid",
          "intraop_ppf",
          "intraop_ftn",
          "intraop_rocu",
          "intraop_eph",
          "age"
         ],
         "type": "scatterpolar"
        },
        {
         "hovertemplate": "label=2<br>value=%{r}<br>variable=%{theta}<extra></extra>",
         "legendgroup": "2",
         "line": {
          "color": "#00cc96",
          "dash": "solid"
         },
         "marker": {
          "symbol": "circle"
         },
         "mode": "lines",
         "name": "2",
         "r": [
          0.6793854033290653,
          0.5264393939393941,
          0.41833962497679317,
          0.4309764309764309,
          0.6281818181818183,
          1,
          0.2,
          0.6258576329331047,
          0.4145626884963378,
          0.7509953550099535,
          0.38058317105667727,
          0.9493288590604027,
          0.7734159779614326,
          0.24309303977272728,
          0.8225757575757574,
          0.13834900731452454,
          0.13726076555023922,
          0.2613986013986014,
          0.17352850539291217,
          0.08159514270372971,
          0.101135298406416,
          0.3348484848484849,
          0.11477272727272728,
          0.4119318181818182,
          0.1138755980861244,
          0.6793854033290653
         ],
         "showlegend": true,
         "subplot": "polar",
         "theta": [
          "age",
          "height",
          "weight",
          "bmi",
          "asa",
          "preop_htn",
          "preop_dm",
          "preop_hb",
          "preop_plt",
          "preop_pt",
          "preop_aptt",
          "preop_na",
          "preop_k",
          "preop_gluc",
          "preop_alb",
          "preop_ast",
          "preop_alt",
          "preop_bun",
          "preop_cr",
          "intraop_uo",
          "intraop_crystalloid",
          "intraop_ppf",
          "intraop_ftn",
          "intraop_rocu",
          "intraop_eph",
          "age"
         ],
         "type": "scatterpolar"
        }
       ],
       "layout": {
        "height": 800,
        "legend": {
         "title": {
          "text": "label"
         },
         "tracegroupgap": 0
        },
        "margin": {
         "t": 60
        },
        "polar": {
         "angularaxis": {
          "direction": "clockwise",
          "rotation": 90
         },
         "domain": {
          "x": [
           0,
           1
          ],
          "y": [
           0,
           1
          ]
         }
        },
        "template": {
         "data": {
          "bar": [
           {
            "error_x": {
             "color": "#2a3f5f"
            },
            "error_y": {
             "color": "#2a3f5f"
            },
            "marker": {
             "line": {
              "color": "#E5ECF6",
              "width": 0.5
             },
             "pattern": {
              "fillmode": "overlay",
              "size": 10,
              "solidity": 0.2
             }
            },
            "type": "bar"
           }
          ],
          "barpolar": [
           {
            "marker": {
             "line": {
              "color": "#E5ECF6",
              "width": 0.5
             },
             "pattern": {
              "fillmode": "overlay",
              "size": 10,
              "solidity": 0.2
             }
            },
            "type": "barpolar"
           }
          ],
          "carpet": [
           {
            "aaxis": {
             "endlinecolor": "#2a3f5f",
             "gridcolor": "white",
             "linecolor": "white",
             "minorgridcolor": "white",
             "startlinecolor": "#2a3f5f"
            },
            "baxis": {
             "endlinecolor": "#2a3f5f",
             "gridcolor": "white",
             "linecolor": "white",
             "minorgridcolor": "white",
             "startlinecolor": "#2a3f5f"
            },
            "type": "carpet"
           }
          ],
          "choropleth": [
           {
            "colorbar": {
             "outlinewidth": 0,
             "ticks": ""
            },
            "type": "choropleth"
           }
          ],
          "contour": [
           {
            "colorbar": {
             "outlinewidth": 0,
             "ticks": ""
            },
            "colorscale": [
             [
              0,
              "#0d0887"
             ],
             [
              0.1111111111111111,
              "#46039f"
             ],
             [
              0.2222222222222222,
              "#7201a8"
             ],
             [
              0.3333333333333333,
              "#9c179e"
             ],
             [
              0.4444444444444444,
              "#bd3786"
             ],
             [
              0.5555555555555556,
              "#d8576b"
             ],
             [
              0.6666666666666666,
              "#ed7953"
             ],
             [
              0.7777777777777778,
              "#fb9f3a"
             ],
             [
              0.8888888888888888,
              "#fdca26"
             ],
             [
              1,
              "#f0f921"
             ]
            ],
            "type": "contour"
           }
          ],
          "contourcarpet": [
           {
            "colorbar": {
             "outlinewidth": 0,
             "ticks": ""
            },
            "type": "contourcarpet"
           }
          ],
          "heatmap": [
           {
            "colorbar": {
             "outlinewidth": 0,
             "ticks": ""
            },
            "colorscale": [
             [
              0,
              "#0d0887"
             ],
             [
              0.1111111111111111,
              "#46039f"
             ],
             [
              0.2222222222222222,
              "#7201a8"
             ],
             [
              0.3333333333333333,
              "#9c179e"
             ],
             [
              0.4444444444444444,
              "#bd3786"
             ],
             [
              0.5555555555555556,
              "#d8576b"
             ],
             [
              0.6666666666666666,
              "#ed7953"
             ],
             [
              0.7777777777777778,
              "#fb9f3a"
             ],
             [
              0.8888888888888888,
              "#fdca26"
             ],
             [
              1,
              "#f0f921"
             ]
            ],
            "type": "heatmap"
           }
          ],
          "heatmapgl": [
           {
            "colorbar": {
             "outlinewidth": 0,
             "ticks": ""
            },
            "colorscale": [
             [
              0,
              "#0d0887"
             ],
             [
              0.1111111111111111,
              "#46039f"
             ],
             [
              0.2222222222222222,
              "#7201a8"
             ],
             [
              0.3333333333333333,
              "#9c179e"
             ],
             [
              0.4444444444444444,
              "#bd3786"
             ],
             [
              0.5555555555555556,
              "#d8576b"
             ],
             [
              0.6666666666666666,
              "#ed7953"
             ],
             [
              0.7777777777777778,
              "#fb9f3a"
             ],
             [
              0.8888888888888888,
              "#fdca26"
             ],
             [
              1,
              "#f0f921"
             ]
            ],
            "type": "heatmapgl"
           }
          ],
          "histogram": [
           {
            "marker": {
             "pattern": {
              "fillmode": "overlay",
              "size": 10,
              "solidity": 0.2
             }
            },
            "type": "histogram"
           }
          ],
          "histogram2d": [
           {
            "colorbar": {
             "outlinewidth": 0,
             "ticks": ""
            },
            "colorscale": [
             [
              0,
              "#0d0887"
             ],
             [
              0.1111111111111111,
              "#46039f"
             ],
             [
              0.2222222222222222,
              "#7201a8"
             ],
             [
              0.3333333333333333,
              "#9c179e"
             ],
             [
              0.4444444444444444,
              "#bd3786"
             ],
             [
              0.5555555555555556,
              "#d8576b"
             ],
             [
              0.6666666666666666,
              "#ed7953"
             ],
             [
              0.7777777777777778,
              "#fb9f3a"
             ],
             [
              0.8888888888888888,
              "#fdca26"
             ],
             [
              1,
              "#f0f921"
             ]
            ],
            "type": "histogram2d"
           }
          ],
          "histogram2dcontour": [
           {
            "colorbar": {
             "outlinewidth": 0,
             "ticks": ""
            },
            "colorscale": [
             [
              0,
              "#0d0887"
             ],
             [
              0.1111111111111111,
              "#46039f"
             ],
             [
              0.2222222222222222,
              "#7201a8"
             ],
             [
              0.3333333333333333,
              "#9c179e"
             ],
             [
              0.4444444444444444,
              "#bd3786"
             ],
             [
              0.5555555555555556,
              "#d8576b"
             ],
             [
              0.6666666666666666,
              "#ed7953"
             ],
             [
              0.7777777777777778,
              "#fb9f3a"
             ],
             [
              0.8888888888888888,
              "#fdca26"
             ],
             [
              1,
              "#f0f921"
             ]
            ],
            "type": "histogram2dcontour"
           }
          ],
          "mesh3d": [
           {
            "colorbar": {
             "outlinewidth": 0,
             "ticks": ""
            },
            "type": "mesh3d"
           }
          ],
          "parcoords": [
           {
            "line": {
             "colorbar": {
              "outlinewidth": 0,
              "ticks": ""
             }
            },
            "type": "parcoords"
           }
          ],
          "pie": [
           {
            "automargin": true,
            "type": "pie"
           }
          ],
          "scatter": [
           {
            "fillpattern": {
             "fillmode": "overlay",
             "size": 10,
             "solidity": 0.2
            },
            "type": "scatter"
           }
          ],
          "scatter3d": [
           {
            "line": {
             "colorbar": {
              "outlinewidth": 0,
              "ticks": ""
             }
            },
            "marker": {
             "colorbar": {
              "outlinewidth": 0,
              "ticks": ""
             }
            },
            "type": "scatter3d"
           }
          ],
          "scattercarpet": [
           {
            "marker": {
             "colorbar": {
              "outlinewidth": 0,
              "ticks": ""
             }
            },
            "type": "scattercarpet"
           }
          ],
          "scattergeo": [
           {
            "marker": {
             "colorbar": {
              "outlinewidth": 0,
              "ticks": ""
             }
            },
            "type": "scattergeo"
           }
          ],
          "scattergl": [
           {
            "marker": {
             "colorbar": {
              "outlinewidth": 0,
              "ticks": ""
             }
            },
            "type": "scattergl"
           }
          ],
          "scattermapbox": [
           {
            "marker": {
             "colorbar": {
              "outlinewidth": 0,
              "ticks": ""
             }
            },
            "type": "scattermapbox"
           }
          ],
          "scatterpolar": [
           {
            "marker": {
             "colorbar": {
              "outlinewidth": 0,
              "ticks": ""
             }
            },
            "type": "scatterpolar"
           }
          ],
          "scatterpolargl": [
           {
            "marker": {
             "colorbar": {
              "outlinewidth": 0,
              "ticks": ""
             }
            },
            "type": "scatterpolargl"
           }
          ],
          "scatterternary": [
           {
            "marker": {
             "colorbar": {
              "outlinewidth": 0,
              "ticks": ""
             }
            },
            "type": "scatterternary"
           }
          ],
          "surface": [
           {
            "colorbar": {
             "outlinewidth": 0,
             "ticks": ""
            },
            "colorscale": [
             [
              0,
              "#0d0887"
             ],
             [
              0.1111111111111111,
              "#46039f"
             ],
             [
              0.2222222222222222,
              "#7201a8"
             ],
             [
              0.3333333333333333,
              "#9c179e"
             ],
             [
              0.4444444444444444,
              "#bd3786"
             ],
             [
              0.5555555555555556,
              "#d8576b"
             ],
             [
              0.6666666666666666,
              "#ed7953"
             ],
             [
              0.7777777777777778,
              "#fb9f3a"
             ],
             [
              0.8888888888888888,
              "#fdca26"
             ],
             [
              1,
              "#f0f921"
             ]
            ],
            "type": "surface"
           }
          ],
          "table": [
           {
            "cells": {
             "fill": {
              "color": "#EBF0F8"
             },
             "line": {
              "color": "white"
             }
            },
            "header": {
             "fill": {
              "color": "#C8D4E3"
             },
             "line": {
              "color": "white"
             }
            },
            "type": "table"
           }
          ]
         },
         "layout": {
          "annotationdefaults": {
           "arrowcolor": "#2a3f5f",
           "arrowhead": 0,
           "arrowwidth": 1
          },
          "autotypenumbers": "strict",
          "coloraxis": {
           "colorbar": {
            "outlinewidth": 0,
            "ticks": ""
           }
          },
          "colorscale": {
           "diverging": [
            [
             0,
             "#8e0152"
            ],
            [
             0.1,
             "#c51b7d"
            ],
            [
             0.2,
             "#de77ae"
            ],
            [
             0.3,
             "#f1b6da"
            ],
            [
             0.4,
             "#fde0ef"
            ],
            [
             0.5,
             "#f7f7f7"
            ],
            [
             0.6,
             "#e6f5d0"
            ],
            [
             0.7,
             "#b8e186"
            ],
            [
             0.8,
             "#7fbc41"
            ],
            [
             0.9,
             "#4d9221"
            ],
            [
             1,
             "#276419"
            ]
           ],
           "sequential": [
            [
             0,
             "#0d0887"
            ],
            [
             0.1111111111111111,
             "#46039f"
            ],
            [
             0.2222222222222222,
             "#7201a8"
            ],
            [
             0.3333333333333333,
             "#9c179e"
            ],
            [
             0.4444444444444444,
             "#bd3786"
            ],
            [
             0.5555555555555556,
             "#d8576b"
            ],
            [
             0.6666666666666666,
             "#ed7953"
            ],
            [
             0.7777777777777778,
             "#fb9f3a"
            ],
            [
             0.8888888888888888,
             "#fdca26"
            ],
            [
             1,
             "#f0f921"
            ]
           ],
           "sequentialminus": [
            [
             0,
             "#0d0887"
            ],
            [
             0.1111111111111111,
             "#46039f"
            ],
            [
             0.2222222222222222,
             "#7201a8"
            ],
            [
             0.3333333333333333,
             "#9c179e"
            ],
            [
             0.4444444444444444,
             "#bd3786"
            ],
            [
             0.5555555555555556,
             "#d8576b"
            ],
            [
             0.6666666666666666,
             "#ed7953"
            ],
            [
             0.7777777777777778,
             "#fb9f3a"
            ],
            [
             0.8888888888888888,
             "#fdca26"
            ],
            [
             1,
             "#f0f921"
            ]
           ]
          },
          "colorway": [
           "#636efa",
           "#EF553B",
           "#00cc96",
           "#ab63fa",
           "#FFA15A",
           "#19d3f3",
           "#FF6692",
           "#B6E880",
           "#FF97FF",
           "#FECB52"
          ],
          "font": {
           "color": "#2a3f5f"
          },
          "geo": {
           "bgcolor": "white",
           "lakecolor": "white",
           "landcolor": "#E5ECF6",
           "showlakes": true,
           "showland": true,
           "subunitcolor": "white"
          },
          "hoverlabel": {
           "align": "left"
          },
          "hovermode": "closest",
          "mapbox": {
           "style": "light"
          },
          "paper_bgcolor": "white",
          "plot_bgcolor": "#E5ECF6",
          "polar": {
           "angularaxis": {
            "gridcolor": "white",
            "linecolor": "white",
            "ticks": ""
           },
           "bgcolor": "#E5ECF6",
           "radialaxis": {
            "gridcolor": "white",
            "linecolor": "white",
            "ticks": ""
           }
          },
          "scene": {
           "xaxis": {
            "backgroundcolor": "#E5ECF6",
            "gridcolor": "white",
            "gridwidth": 2,
            "linecolor": "white",
            "showbackground": true,
            "ticks": "",
            "zerolinecolor": "white"
           },
           "yaxis": {
            "backgroundcolor": "#E5ECF6",
            "gridcolor": "white",
            "gridwidth": 2,
            "linecolor": "white",
            "showbackground": true,
            "ticks": "",
            "zerolinecolor": "white"
           },
           "zaxis": {
            "backgroundcolor": "#E5ECF6",
            "gridcolor": "white",
            "gridwidth": 2,
            "linecolor": "white",
            "showbackground": true,
            "ticks": "",
            "zerolinecolor": "white"
           }
          },
          "shapedefaults": {
           "line": {
            "color": "#2a3f5f"
           }
          },
          "ternary": {
           "aaxis": {
            "gridcolor": "white",
            "linecolor": "white",
            "ticks": ""
           },
           "baxis": {
            "gridcolor": "white",
            "linecolor": "white",
            "ticks": ""
           },
           "bgcolor": "#E5ECF6",
           "caxis": {
            "gridcolor": "white",
            "linecolor": "white",
            "ticks": ""
           }
          },
          "title": {
           "x": 0.05
          },
          "xaxis": {
           "automargin": true,
           "gridcolor": "white",
           "linecolor": "white",
           "ticks": "",
           "title": {
            "standoff": 15
           },
           "zerolinecolor": "white",
           "zerolinewidth": 2
          },
          "yaxis": {
           "automargin": true,
           "gridcolor": "white",
           "linecolor": "white",
           "ticks": "",
           "title": {
            "standoff": 15
           },
           "zerolinecolor": "white",
           "zerolinewidth": 2
          }
         }
        },
        "width": 1400
       }
      }
     },
     "metadata": {},
     "output_type": "display_data"
    }
   ],
   "source": [
    "fig4 = px.line_polar(polar, r=\"value\", theta=\"variable\", color=\"label\", line_close=True,height=800,width=1400)\n",
    "fig4.show()"
   ]
  },
  {
   "cell_type": "code",
   "execution_count": 29,
   "id": "361e47f7",
   "metadata": {},
   "outputs": [
    {
     "data": {
      "application/vnd.plotly.v1+json": {
       "config": {
        "plotlyServerURL": "https://plot.ly"
       },
       "data": [
        {
         "customdata": [
          [
           "blue"
          ],
          [
           "red"
          ],
          [
           "green"
          ]
         ],
         "domain": {
          "x": [
           0,
           1
          ],
          "y": [
           0,
           1
          ]
         },
         "hovertemplate": "label=%{label}<br>value=%{value}<br>color=%{customdata[0]}<extra></extra>",
         "labels": [
          0,
          1,
          2
         ],
         "legendgroup": "",
         "marker": {
          "colors": [
           "#636efa",
           "#EF553B",
           "#00cc96"
          ]
         },
         "name": "",
         "showlegend": true,
         "type": "pie",
         "values": [
          36,
          348,
          220
         ]
        }
       ],
       "layout": {
        "legend": {
         "tracegroupgap": 0
        },
        "margin": {
         "t": 60
        },
        "template": {
         "data": {
          "bar": [
           {
            "error_x": {
             "color": "#2a3f5f"
            },
            "error_y": {
             "color": "#2a3f5f"
            },
            "marker": {
             "line": {
              "color": "#E5ECF6",
              "width": 0.5
             },
             "pattern": {
              "fillmode": "overlay",
              "size": 10,
              "solidity": 0.2
             }
            },
            "type": "bar"
           }
          ],
          "barpolar": [
           {
            "marker": {
             "line": {
              "color": "#E5ECF6",
              "width": 0.5
             },
             "pattern": {
              "fillmode": "overlay",
              "size": 10,
              "solidity": 0.2
             }
            },
            "type": "barpolar"
           }
          ],
          "carpet": [
           {
            "aaxis": {
             "endlinecolor": "#2a3f5f",
             "gridcolor": "white",
             "linecolor": "white",
             "minorgridcolor": "white",
             "startlinecolor": "#2a3f5f"
            },
            "baxis": {
             "endlinecolor": "#2a3f5f",
             "gridcolor": "white",
             "linecolor": "white",
             "minorgridcolor": "white",
             "startlinecolor": "#2a3f5f"
            },
            "type": "carpet"
           }
          ],
          "choropleth": [
           {
            "colorbar": {
             "outlinewidth": 0,
             "ticks": ""
            },
            "type": "choropleth"
           }
          ],
          "contour": [
           {
            "colorbar": {
             "outlinewidth": 0,
             "ticks": ""
            },
            "colorscale": [
             [
              0,
              "#0d0887"
             ],
             [
              0.1111111111111111,
              "#46039f"
             ],
             [
              0.2222222222222222,
              "#7201a8"
             ],
             [
              0.3333333333333333,
              "#9c179e"
             ],
             [
              0.4444444444444444,
              "#bd3786"
             ],
             [
              0.5555555555555556,
              "#d8576b"
             ],
             [
              0.6666666666666666,
              "#ed7953"
             ],
             [
              0.7777777777777778,
              "#fb9f3a"
             ],
             [
              0.8888888888888888,
              "#fdca26"
             ],
             [
              1,
              "#f0f921"
             ]
            ],
            "type": "contour"
           }
          ],
          "contourcarpet": [
           {
            "colorbar": {
             "outlinewidth": 0,
             "ticks": ""
            },
            "type": "contourcarpet"
           }
          ],
          "heatmap": [
           {
            "colorbar": {
             "outlinewidth": 0,
             "ticks": ""
            },
            "colorscale": [
             [
              0,
              "#0d0887"
             ],
             [
              0.1111111111111111,
              "#46039f"
             ],
             [
              0.2222222222222222,
              "#7201a8"
             ],
             [
              0.3333333333333333,
              "#9c179e"
             ],
             [
              0.4444444444444444,
              "#bd3786"
             ],
             [
              0.5555555555555556,
              "#d8576b"
             ],
             [
              0.6666666666666666,
              "#ed7953"
             ],
             [
              0.7777777777777778,
              "#fb9f3a"
             ],
             [
              0.8888888888888888,
              "#fdca26"
             ],
             [
              1,
              "#f0f921"
             ]
            ],
            "type": "heatmap"
           }
          ],
          "heatmapgl": [
           {
            "colorbar": {
             "outlinewidth": 0,
             "ticks": ""
            },
            "colorscale": [
             [
              0,
              "#0d0887"
             ],
             [
              0.1111111111111111,
              "#46039f"
             ],
             [
              0.2222222222222222,
              "#7201a8"
             ],
             [
              0.3333333333333333,
              "#9c179e"
             ],
             [
              0.4444444444444444,
              "#bd3786"
             ],
             [
              0.5555555555555556,
              "#d8576b"
             ],
             [
              0.6666666666666666,
              "#ed7953"
             ],
             [
              0.7777777777777778,
              "#fb9f3a"
             ],
             [
              0.8888888888888888,
              "#fdca26"
             ],
             [
              1,
              "#f0f921"
             ]
            ],
            "type": "heatmapgl"
           }
          ],
          "histogram": [
           {
            "marker": {
             "pattern": {
              "fillmode": "overlay",
              "size": 10,
              "solidity": 0.2
             }
            },
            "type": "histogram"
           }
          ],
          "histogram2d": [
           {
            "colorbar": {
             "outlinewidth": 0,
             "ticks": ""
            },
            "colorscale": [
             [
              0,
              "#0d0887"
             ],
             [
              0.1111111111111111,
              "#46039f"
             ],
             [
              0.2222222222222222,
              "#7201a8"
             ],
             [
              0.3333333333333333,
              "#9c179e"
             ],
             [
              0.4444444444444444,
              "#bd3786"
             ],
             [
              0.5555555555555556,
              "#d8576b"
             ],
             [
              0.6666666666666666,
              "#ed7953"
             ],
             [
              0.7777777777777778,
              "#fb9f3a"
             ],
             [
              0.8888888888888888,
              "#fdca26"
             ],
             [
              1,
              "#f0f921"
             ]
            ],
            "type": "histogram2d"
           }
          ],
          "histogram2dcontour": [
           {
            "colorbar": {
             "outlinewidth": 0,
             "ticks": ""
            },
            "colorscale": [
             [
              0,
              "#0d0887"
             ],
             [
              0.1111111111111111,
              "#46039f"
             ],
             [
              0.2222222222222222,
              "#7201a8"
             ],
             [
              0.3333333333333333,
              "#9c179e"
             ],
             [
              0.4444444444444444,
              "#bd3786"
             ],
             [
              0.5555555555555556,
              "#d8576b"
             ],
             [
              0.6666666666666666,
              "#ed7953"
             ],
             [
              0.7777777777777778,
              "#fb9f3a"
             ],
             [
              0.8888888888888888,
              "#fdca26"
             ],
             [
              1,
              "#f0f921"
             ]
            ],
            "type": "histogram2dcontour"
           }
          ],
          "mesh3d": [
           {
            "colorbar": {
             "outlinewidth": 0,
             "ticks": ""
            },
            "type": "mesh3d"
           }
          ],
          "parcoords": [
           {
            "line": {
             "colorbar": {
              "outlinewidth": 0,
              "ticks": ""
             }
            },
            "type": "parcoords"
           }
          ],
          "pie": [
           {
            "automargin": true,
            "type": "pie"
           }
          ],
          "scatter": [
           {
            "fillpattern": {
             "fillmode": "overlay",
             "size": 10,
             "solidity": 0.2
            },
            "type": "scatter"
           }
          ],
          "scatter3d": [
           {
            "line": {
             "colorbar": {
              "outlinewidth": 0,
              "ticks": ""
             }
            },
            "marker": {
             "colorbar": {
              "outlinewidth": 0,
              "ticks": ""
             }
            },
            "type": "scatter3d"
           }
          ],
          "scattercarpet": [
           {
            "marker": {
             "colorbar": {
              "outlinewidth": 0,
              "ticks": ""
             }
            },
            "type": "scattercarpet"
           }
          ],
          "scattergeo": [
           {
            "marker": {
             "colorbar": {
              "outlinewidth": 0,
              "ticks": ""
             }
            },
            "type": "scattergeo"
           }
          ],
          "scattergl": [
           {
            "marker": {
             "colorbar": {
              "outlinewidth": 0,
              "ticks": ""
             }
            },
            "type": "scattergl"
           }
          ],
          "scattermapbox": [
           {
            "marker": {
             "colorbar": {
              "outlinewidth": 0,
              "ticks": ""
             }
            },
            "type": "scattermapbox"
           }
          ],
          "scatterpolar": [
           {
            "marker": {
             "colorbar": {
              "outlinewidth": 0,
              "ticks": ""
             }
            },
            "type": "scatterpolar"
           }
          ],
          "scatterpolargl": [
           {
            "marker": {
             "colorbar": {
              "outlinewidth": 0,
              "ticks": ""
             }
            },
            "type": "scatterpolargl"
           }
          ],
          "scatterternary": [
           {
            "marker": {
             "colorbar": {
              "outlinewidth": 0,
              "ticks": ""
             }
            },
            "type": "scatterternary"
           }
          ],
          "surface": [
           {
            "colorbar": {
             "outlinewidth": 0,
             "ticks": ""
            },
            "colorscale": [
             [
              0,
              "#0d0887"
             ],
             [
              0.1111111111111111,
              "#46039f"
             ],
             [
              0.2222222222222222,
              "#7201a8"
             ],
             [
              0.3333333333333333,
              "#9c179e"
             ],
             [
              0.4444444444444444,
              "#bd3786"
             ],
             [
              0.5555555555555556,
              "#d8576b"
             ],
             [
              0.6666666666666666,
              "#ed7953"
             ],
             [
              0.7777777777777778,
              "#fb9f3a"
             ],
             [
              0.8888888888888888,
              "#fdca26"
             ],
             [
              1,
              "#f0f921"
             ]
            ],
            "type": "surface"
           }
          ],
          "table": [
           {
            "cells": {
             "fill": {
              "color": "#EBF0F8"
             },
             "line": {
              "color": "white"
             }
            },
            "header": {
             "fill": {
              "color": "#C8D4E3"
             },
             "line": {
              "color": "white"
             }
            },
            "type": "table"
           }
          ]
         },
         "layout": {
          "annotationdefaults": {
           "arrowcolor": "#2a3f5f",
           "arrowhead": 0,
           "arrowwidth": 1
          },
          "autotypenumbers": "strict",
          "coloraxis": {
           "colorbar": {
            "outlinewidth": 0,
            "ticks": ""
           }
          },
          "colorscale": {
           "diverging": [
            [
             0,
             "#8e0152"
            ],
            [
             0.1,
             "#c51b7d"
            ],
            [
             0.2,
             "#de77ae"
            ],
            [
             0.3,
             "#f1b6da"
            ],
            [
             0.4,
             "#fde0ef"
            ],
            [
             0.5,
             "#f7f7f7"
            ],
            [
             0.6,
             "#e6f5d0"
            ],
            [
             0.7,
             "#b8e186"
            ],
            [
             0.8,
             "#7fbc41"
            ],
            [
             0.9,
             "#4d9221"
            ],
            [
             1,
             "#276419"
            ]
           ],
           "sequential": [
            [
             0,
             "#0d0887"
            ],
            [
             0.1111111111111111,
             "#46039f"
            ],
            [
             0.2222222222222222,
             "#7201a8"
            ],
            [
             0.3333333333333333,
             "#9c179e"
            ],
            [
             0.4444444444444444,
             "#bd3786"
            ],
            [
             0.5555555555555556,
             "#d8576b"
            ],
            [
             0.6666666666666666,
             "#ed7953"
            ],
            [
             0.7777777777777778,
             "#fb9f3a"
            ],
            [
             0.8888888888888888,
             "#fdca26"
            ],
            [
             1,
             "#f0f921"
            ]
           ],
           "sequentialminus": [
            [
             0,
             "#0d0887"
            ],
            [
             0.1111111111111111,
             "#46039f"
            ],
            [
             0.2222222222222222,
             "#7201a8"
            ],
            [
             0.3333333333333333,
             "#9c179e"
            ],
            [
             0.4444444444444444,
             "#bd3786"
            ],
            [
             0.5555555555555556,
             "#d8576b"
            ],
            [
             0.6666666666666666,
             "#ed7953"
            ],
            [
             0.7777777777777778,
             "#fb9f3a"
            ],
            [
             0.8888888888888888,
             "#fdca26"
            ],
            [
             1,
             "#f0f921"
            ]
           ]
          },
          "colorway": [
           "#636efa",
           "#EF553B",
           "#00cc96",
           "#ab63fa",
           "#FFA15A",
           "#19d3f3",
           "#FF6692",
           "#B6E880",
           "#FF97FF",
           "#FECB52"
          ],
          "font": {
           "color": "#2a3f5f"
          },
          "geo": {
           "bgcolor": "white",
           "lakecolor": "white",
           "landcolor": "#E5ECF6",
           "showlakes": true,
           "showland": true,
           "subunitcolor": "white"
          },
          "hoverlabel": {
           "align": "left"
          },
          "hovermode": "closest",
          "mapbox": {
           "style": "light"
          },
          "paper_bgcolor": "white",
          "plot_bgcolor": "#E5ECF6",
          "polar": {
           "angularaxis": {
            "gridcolor": "white",
            "linecolor": "white",
            "ticks": ""
           },
           "bgcolor": "#E5ECF6",
           "radialaxis": {
            "gridcolor": "white",
            "linecolor": "white",
            "ticks": ""
           }
          },
          "scene": {
           "xaxis": {
            "backgroundcolor": "#E5ECF6",
            "gridcolor": "white",
            "gridwidth": 2,
            "linecolor": "white",
            "showbackground": true,
            "ticks": "",
            "zerolinecolor": "white"
           },
           "yaxis": {
            "backgroundcolor": "#E5ECF6",
            "gridcolor": "white",
            "gridwidth": 2,
            "linecolor": "white",
            "showbackground": true,
            "ticks": "",
            "zerolinecolor": "white"
           },
           "zaxis": {
            "backgroundcolor": "#E5ECF6",
            "gridcolor": "white",
            "gridwidth": 2,
            "linecolor": "white",
            "showbackground": true,
            "ticks": "",
            "zerolinecolor": "white"
           }
          },
          "shapedefaults": {
           "line": {
            "color": "#2a3f5f"
           }
          },
          "ternary": {
           "aaxis": {
            "gridcolor": "white",
            "linecolor": "white",
            "ticks": ""
           },
           "baxis": {
            "gridcolor": "white",
            "linecolor": "white",
            "ticks": ""
           },
           "bgcolor": "#E5ECF6",
           "caxis": {
            "gridcolor": "white",
            "linecolor": "white",
            "ticks": ""
           }
          },
          "title": {
           "x": 0.05
          },
          "xaxis": {
           "automargin": true,
           "gridcolor": "white",
           "linecolor": "white",
           "ticks": "",
           "title": {
            "standoff": 15
           },
           "zerolinecolor": "white",
           "zerolinewidth": 2
          },
          "yaxis": {
           "automargin": true,
           "gridcolor": "white",
           "linecolor": "white",
           "ticks": "",
           "title": {
            "standoff": 15
           },
           "zerolinecolor": "white",
           "zerolinewidth": 2
          }
         }
        }
       }
      }
     },
     "metadata": {},
     "output_type": "display_data"
    }
   ],
   "source": [
    "pie=clusters.groupby('label').size().reset_index()\n",
    "pie.columns=['label','value']\n",
    "px.pie(pie,values='value',names='label',color=['blue','red','green'])"
   ]
  },
  {
   "cell_type": "code",
   "execution_count": 46,
   "id": "c98cbece",
   "metadata": {},
   "outputs": [],
   "source": [
    "caseid = data1['caseid']\n",
    "caseid = caseid.to_list()"
   ]
  },
  {
   "cell_type": "code",
   "execution_count": null,
   "id": "ca1c28a4",
   "metadata": {},
   "outputs": [],
   "source": [
    "clusters['caseid'] = caseid"
   ]
  },
  {
   "cell_type": "code",
   "execution_count": 54,
   "id": "d468f574",
   "metadata": {},
   "outputs": [],
   "source": [
    "cluster_ids = clusters[['caseid', 'label']]"
   ]
  },
  {
   "cell_type": "code",
   "execution_count": 55,
   "id": "c52e6834",
   "metadata": {},
   "outputs": [
    {
     "data": {
      "text/html": [
       "<div>\n",
       "<style scoped>\n",
       "    .dataframe tbody tr th:only-of-type {\n",
       "        vertical-align: middle;\n",
       "    }\n",
       "\n",
       "    .dataframe tbody tr th {\n",
       "        vertical-align: top;\n",
       "    }\n",
       "\n",
       "    .dataframe thead th {\n",
       "        text-align: right;\n",
       "    }\n",
       "</style>\n",
       "<table border=\"1\" class=\"dataframe\">\n",
       "  <thead>\n",
       "    <tr style=\"text-align: right;\">\n",
       "      <th></th>\n",
       "      <th>caseid</th>\n",
       "      <th>label</th>\n",
       "    </tr>\n",
       "  </thead>\n",
       "  <tbody>\n",
       "    <tr>\n",
       "      <th>0</th>\n",
       "      <td>1</td>\n",
       "      <td>2</td>\n",
       "    </tr>\n",
       "    <tr>\n",
       "      <th>1</th>\n",
       "      <td>21</td>\n",
       "      <td>1</td>\n",
       "    </tr>\n",
       "    <tr>\n",
       "      <th>2</th>\n",
       "      <td>30</td>\n",
       "      <td>1</td>\n",
       "    </tr>\n",
       "    <tr>\n",
       "      <th>3</th>\n",
       "      <td>50</td>\n",
       "      <td>1</td>\n",
       "    </tr>\n",
       "    <tr>\n",
       "      <th>4</th>\n",
       "      <td>57</td>\n",
       "      <td>1</td>\n",
       "    </tr>\n",
       "    <tr>\n",
       "      <th>...</th>\n",
       "      <td>...</td>\n",
       "      <td>...</td>\n",
       "    </tr>\n",
       "    <tr>\n",
       "      <th>599</th>\n",
       "      <td>6352</td>\n",
       "      <td>1</td>\n",
       "    </tr>\n",
       "    <tr>\n",
       "      <th>600</th>\n",
       "      <td>6356</td>\n",
       "      <td>1</td>\n",
       "    </tr>\n",
       "    <tr>\n",
       "      <th>601</th>\n",
       "      <td>6358</td>\n",
       "      <td>2</td>\n",
       "    </tr>\n",
       "    <tr>\n",
       "      <th>602</th>\n",
       "      <td>6360</td>\n",
       "      <td>1</td>\n",
       "    </tr>\n",
       "    <tr>\n",
       "      <th>603</th>\n",
       "      <td>6385</td>\n",
       "      <td>2</td>\n",
       "    </tr>\n",
       "  </tbody>\n",
       "</table>\n",
       "<p>604 rows × 2 columns</p>\n",
       "</div>"
      ],
      "text/plain": [
       "     caseid  label\n",
       "0         1      2\n",
       "1        21      1\n",
       "2        30      1\n",
       "3        50      1\n",
       "4        57      1\n",
       "..      ...    ...\n",
       "599    6352      1\n",
       "600    6356      1\n",
       "601    6358      2\n",
       "602    6360      1\n",
       "603    6385      2\n",
       "\n",
       "[604 rows x 2 columns]"
      ]
     },
     "execution_count": 55,
     "metadata": {},
     "output_type": "execute_result"
    }
   ],
   "source": [
    "cluster_ids"
   ]
  },
  {
   "cell_type": "code",
   "execution_count": 74,
   "id": "f301f207",
   "metadata": {},
   "outputs": [
    {
     "data": {
      "text/html": [
       "<div>\n",
       "<style scoped>\n",
       "    .dataframe tbody tr th:only-of-type {\n",
       "        vertical-align: middle;\n",
       "    }\n",
       "\n",
       "    .dataframe tbody tr th {\n",
       "        vertical-align: top;\n",
       "    }\n",
       "\n",
       "    .dataframe thead th {\n",
       "        text-align: right;\n",
       "    }\n",
       "</style>\n",
       "<table border=\"1\" class=\"dataframe\">\n",
       "  <thead>\n",
       "    <tr style=\"text-align: right;\">\n",
       "      <th></th>\n",
       "      <th>caseid</th>\n",
       "      <th>age</th>\n",
       "      <th>height</th>\n",
       "      <th>weight</th>\n",
       "      <th>bmi</th>\n",
       "      <th>asa</th>\n",
       "      <th>preop_htn</th>\n",
       "      <th>preop_dm</th>\n",
       "      <th>preop_hb</th>\n",
       "      <th>preop_plt</th>\n",
       "      <th>preop_pt</th>\n",
       "      <th>preop_aptt</th>\n",
       "      <th>preop_na</th>\n",
       "      <th>preop_k</th>\n",
       "      <th>preop_gluc</th>\n",
       "      <th>preop_alb</th>\n",
       "      <th>preop_ast</th>\n",
       "      <th>preop_alt</th>\n",
       "      <th>preop_bun</th>\n",
       "      <th>preop_cr</th>\n",
       "      <th>intraop_uo</th>\n",
       "      <th>intraop_crystalloid</th>\n",
       "      <th>intraop_ppf</th>\n",
       "      <th>intraop_ftn</th>\n",
       "      <th>intraop_rocu</th>\n",
       "      <th>intraop_eph</th>\n",
       "      <th>label</th>\n",
       "    </tr>\n",
       "  </thead>\n",
       "  <tbody>\n",
       "    <tr>\n",
       "      <th>0</th>\n",
       "      <td>1</td>\n",
       "      <td>77.0</td>\n",
       "      <td>160.2</td>\n",
       "      <td>67.5</td>\n",
       "      <td>26.3</td>\n",
       "      <td>2.0</td>\n",
       "      <td>1</td>\n",
       "      <td>0</td>\n",
       "      <td>14.1</td>\n",
       "      <td>189.0</td>\n",
       "      <td>94.0</td>\n",
       "      <td>33.2</td>\n",
       "      <td>141.0</td>\n",
       "      <td>3.1</td>\n",
       "      <td>134.0</td>\n",
       "      <td>4.3</td>\n",
       "      <td>18.0</td>\n",
       "      <td>16.0</td>\n",
       "      <td>10.0</td>\n",
       "      <td>0.82</td>\n",
       "      <td>300.0</td>\n",
       "      <td>350.0</td>\n",
       "      <td>120</td>\n",
       "      <td>100</td>\n",
       "      <td>70</td>\n",
       "      <td>10</td>\n",
       "      <td>2</td>\n",
       "    </tr>\n",
       "    <tr>\n",
       "      <th>19</th>\n",
       "      <td>21</td>\n",
       "      <td>69.0</td>\n",
       "      <td>155.1</td>\n",
       "      <td>61.6</td>\n",
       "      <td>25.6</td>\n",
       "      <td>1.0</td>\n",
       "      <td>0</td>\n",
       "      <td>0</td>\n",
       "      <td>13.3</td>\n",
       "      <td>304.0</td>\n",
       "      <td>116.0</td>\n",
       "      <td>32.9</td>\n",
       "      <td>141.0</td>\n",
       "      <td>4.4</td>\n",
       "      <td>73.0</td>\n",
       "      <td>4.6</td>\n",
       "      <td>20.0</td>\n",
       "      <td>18.0</td>\n",
       "      <td>15.0</td>\n",
       "      <td>0.65</td>\n",
       "      <td>350.0</td>\n",
       "      <td>750.0</td>\n",
       "      <td>100</td>\n",
       "      <td>100</td>\n",
       "      <td>100</td>\n",
       "      <td>10</td>\n",
       "      <td>1</td>\n",
       "    </tr>\n",
       "    <tr>\n",
       "      <th>28</th>\n",
       "      <td>30</td>\n",
       "      <td>59.0</td>\n",
       "      <td>166.4</td>\n",
       "      <td>57.6</td>\n",
       "      <td>20.8</td>\n",
       "      <td>2.0</td>\n",
       "      <td>0</td>\n",
       "      <td>0</td>\n",
       "      <td>13.2</td>\n",
       "      <td>397.0</td>\n",
       "      <td>88.0</td>\n",
       "      <td>32.3</td>\n",
       "      <td>141.0</td>\n",
       "      <td>4.1</td>\n",
       "      <td>171.0</td>\n",
       "      <td>3.6</td>\n",
       "      <td>21.0</td>\n",
       "      <td>15.0</td>\n",
       "      <td>11.0</td>\n",
       "      <td>0.58</td>\n",
       "      <td>120.0</td>\n",
       "      <td>-1.0</td>\n",
       "      <td>0</td>\n",
       "      <td>0</td>\n",
       "      <td>90</td>\n",
       "      <td>5</td>\n",
       "      <td>1</td>\n",
       "    </tr>\n",
       "    <tr>\n",
       "      <th>47</th>\n",
       "      <td>50</td>\n",
       "      <td>47.0</td>\n",
       "      <td>158.1</td>\n",
       "      <td>51.6</td>\n",
       "      <td>20.6</td>\n",
       "      <td>2.0</td>\n",
       "      <td>0</td>\n",
       "      <td>0</td>\n",
       "      <td>10.8</td>\n",
       "      <td>377.0</td>\n",
       "      <td>90.0</td>\n",
       "      <td>40.2</td>\n",
       "      <td>140.0</td>\n",
       "      <td>4.3</td>\n",
       "      <td>96.0</td>\n",
       "      <td>4.3</td>\n",
       "      <td>22.0</td>\n",
       "      <td>41.0</td>\n",
       "      <td>7.0</td>\n",
       "      <td>0.67</td>\n",
       "      <td>400.0</td>\n",
       "      <td>2650.0</td>\n",
       "      <td>0</td>\n",
       "      <td>0</td>\n",
       "      <td>100</td>\n",
       "      <td>5</td>\n",
       "      <td>1</td>\n",
       "    </tr>\n",
       "    <tr>\n",
       "      <th>53</th>\n",
       "      <td>57</td>\n",
       "      <td>67.0</td>\n",
       "      <td>169.4</td>\n",
       "      <td>69.7</td>\n",
       "      <td>24.3</td>\n",
       "      <td>2.0</td>\n",
       "      <td>0</td>\n",
       "      <td>0</td>\n",
       "      <td>14.8</td>\n",
       "      <td>299.0</td>\n",
       "      <td>120.0</td>\n",
       "      <td>33.0</td>\n",
       "      <td>142.0</td>\n",
       "      <td>3.7</td>\n",
       "      <td>98.0</td>\n",
       "      <td>4.4</td>\n",
       "      <td>22.0</td>\n",
       "      <td>14.0</td>\n",
       "      <td>11.0</td>\n",
       "      <td>1.06</td>\n",
       "      <td>10.0</td>\n",
       "      <td>650.0</td>\n",
       "      <td>0</td>\n",
       "      <td>0</td>\n",
       "      <td>75</td>\n",
       "      <td>5</td>\n",
       "      <td>1</td>\n",
       "    </tr>\n",
       "    <tr>\n",
       "      <th>...</th>\n",
       "      <td>...</td>\n",
       "      <td>...</td>\n",
       "      <td>...</td>\n",
       "      <td>...</td>\n",
       "      <td>...</td>\n",
       "      <td>...</td>\n",
       "      <td>...</td>\n",
       "      <td>...</td>\n",
       "      <td>...</td>\n",
       "      <td>...</td>\n",
       "      <td>...</td>\n",
       "      <td>...</td>\n",
       "      <td>...</td>\n",
       "      <td>...</td>\n",
       "      <td>...</td>\n",
       "      <td>...</td>\n",
       "      <td>...</td>\n",
       "      <td>...</td>\n",
       "      <td>...</td>\n",
       "      <td>...</td>\n",
       "      <td>...</td>\n",
       "      <td>...</td>\n",
       "      <td>...</td>\n",
       "      <td>...</td>\n",
       "      <td>...</td>\n",
       "      <td>...</td>\n",
       "      <td>...</td>\n",
       "    </tr>\n",
       "    <tr>\n",
       "      <th>5887</th>\n",
       "      <td>6352</td>\n",
       "      <td>68.0</td>\n",
       "      <td>170.2</td>\n",
       "      <td>57.5</td>\n",
       "      <td>19.8</td>\n",
       "      <td>1.0</td>\n",
       "      <td>0</td>\n",
       "      <td>0</td>\n",
       "      <td>12.3</td>\n",
       "      <td>197.0</td>\n",
       "      <td>90.0</td>\n",
       "      <td>33.7</td>\n",
       "      <td>142.0</td>\n",
       "      <td>4.1</td>\n",
       "      <td>100.0</td>\n",
       "      <td>3.8</td>\n",
       "      <td>16.0</td>\n",
       "      <td>12.0</td>\n",
       "      <td>19.0</td>\n",
       "      <td>0.74</td>\n",
       "      <td>250.0</td>\n",
       "      <td>700.0</td>\n",
       "      <td>0</td>\n",
       "      <td>0</td>\n",
       "      <td>90</td>\n",
       "      <td>15</td>\n",
       "      <td>1</td>\n",
       "    </tr>\n",
       "    <tr>\n",
       "      <th>5891</th>\n",
       "      <td>6356</td>\n",
       "      <td>65.0</td>\n",
       "      <td>166.6</td>\n",
       "      <td>54.3</td>\n",
       "      <td>19.6</td>\n",
       "      <td>2.0</td>\n",
       "      <td>0</td>\n",
       "      <td>1</td>\n",
       "      <td>13.5</td>\n",
       "      <td>296.0</td>\n",
       "      <td>89.0</td>\n",
       "      <td>31.7</td>\n",
       "      <td>138.0</td>\n",
       "      <td>4.4</td>\n",
       "      <td>103.0</td>\n",
       "      <td>3.9</td>\n",
       "      <td>14.0</td>\n",
       "      <td>9.0</td>\n",
       "      <td>15.0</td>\n",
       "      <td>0.99</td>\n",
       "      <td>350.0</td>\n",
       "      <td>2800.0</td>\n",
       "      <td>100</td>\n",
       "      <td>100</td>\n",
       "      <td>140</td>\n",
       "      <td>15</td>\n",
       "      <td>1</td>\n",
       "    </tr>\n",
       "    <tr>\n",
       "      <th>5893</th>\n",
       "      <td>6358</td>\n",
       "      <td>74.0</td>\n",
       "      <td>154.7</td>\n",
       "      <td>50.4</td>\n",
       "      <td>21.1</td>\n",
       "      <td>2.0</td>\n",
       "      <td>1</td>\n",
       "      <td>0</td>\n",
       "      <td>8.5</td>\n",
       "      <td>184.0</td>\n",
       "      <td>114.0</td>\n",
       "      <td>30.2</td>\n",
       "      <td>140.0</td>\n",
       "      <td>4.6</td>\n",
       "      <td>232.0</td>\n",
       "      <td>3.8</td>\n",
       "      <td>54.0</td>\n",
       "      <td>68.0</td>\n",
       "      <td>20.0</td>\n",
       "      <td>0.73</td>\n",
       "      <td>265.0</td>\n",
       "      <td>1700.0</td>\n",
       "      <td>0</td>\n",
       "      <td>0</td>\n",
       "      <td>80</td>\n",
       "      <td>55</td>\n",
       "      <td>2</td>\n",
       "    </tr>\n",
       "    <tr>\n",
       "      <th>5895</th>\n",
       "      <td>6360</td>\n",
       "      <td>41.0</td>\n",
       "      <td>165.2</td>\n",
       "      <td>53.9</td>\n",
       "      <td>19.8</td>\n",
       "      <td>1.0</td>\n",
       "      <td>0</td>\n",
       "      <td>0</td>\n",
       "      <td>11.7</td>\n",
       "      <td>319.0</td>\n",
       "      <td>88.0</td>\n",
       "      <td>30.9</td>\n",
       "      <td>139.0</td>\n",
       "      <td>3.6</td>\n",
       "      <td>106.0</td>\n",
       "      <td>3.5</td>\n",
       "      <td>12.0</td>\n",
       "      <td>4.0</td>\n",
       "      <td>5.0</td>\n",
       "      <td>0.53</td>\n",
       "      <td>180.0</td>\n",
       "      <td>1800.0</td>\n",
       "      <td>100</td>\n",
       "      <td>0</td>\n",
       "      <td>100</td>\n",
       "      <td>15</td>\n",
       "      <td>1</td>\n",
       "    </tr>\n",
       "    <tr>\n",
       "      <th>5918</th>\n",
       "      <td>6385</td>\n",
       "      <td>69.0</td>\n",
       "      <td>159.3</td>\n",
       "      <td>62.3</td>\n",
       "      <td>24.6</td>\n",
       "      <td>2.0</td>\n",
       "      <td>1</td>\n",
       "      <td>0</td>\n",
       "      <td>15.2</td>\n",
       "      <td>239.0</td>\n",
       "      <td>114.0</td>\n",
       "      <td>28.7</td>\n",
       "      <td>144.0</td>\n",
       "      <td>4.0</td>\n",
       "      <td>140.0</td>\n",
       "      <td>3.7</td>\n",
       "      <td>18.0</td>\n",
       "      <td>28.0</td>\n",
       "      <td>19.0</td>\n",
       "      <td>0.84</td>\n",
       "      <td>250.0</td>\n",
       "      <td>2500.0</td>\n",
       "      <td>100</td>\n",
       "      <td>0</td>\n",
       "      <td>100</td>\n",
       "      <td>25</td>\n",
       "      <td>2</td>\n",
       "    </tr>\n",
       "  </tbody>\n",
       "</table>\n",
       "<p>604 rows × 27 columns</p>\n",
       "</div>"
      ],
      "text/plain": [
       "      caseid   age  height  weight   bmi  asa  preop_htn  preop_dm  preop_hb  \\\n",
       "0          1  77.0   160.2    67.5  26.3  2.0          1         0      14.1   \n",
       "19        21  69.0   155.1    61.6  25.6  1.0          0         0      13.3   \n",
       "28        30  59.0   166.4    57.6  20.8  2.0          0         0      13.2   \n",
       "47        50  47.0   158.1    51.6  20.6  2.0          0         0      10.8   \n",
       "53        57  67.0   169.4    69.7  24.3  2.0          0         0      14.8   \n",
       "...      ...   ...     ...     ...   ...  ...        ...       ...       ...   \n",
       "5887    6352  68.0   170.2    57.5  19.8  1.0          0         0      12.3   \n",
       "5891    6356  65.0   166.6    54.3  19.6  2.0          0         1      13.5   \n",
       "5893    6358  74.0   154.7    50.4  21.1  2.0          1         0       8.5   \n",
       "5895    6360  41.0   165.2    53.9  19.8  1.0          0         0      11.7   \n",
       "5918    6385  69.0   159.3    62.3  24.6  2.0          1         0      15.2   \n",
       "\n",
       "      preop_plt  preop_pt  preop_aptt  preop_na  preop_k  preop_gluc  \\\n",
       "0         189.0      94.0        33.2     141.0      3.1       134.0   \n",
       "19        304.0     116.0        32.9     141.0      4.4        73.0   \n",
       "28        397.0      88.0        32.3     141.0      4.1       171.0   \n",
       "47        377.0      90.0        40.2     140.0      4.3        96.0   \n",
       "53        299.0     120.0        33.0     142.0      3.7        98.0   \n",
       "...         ...       ...         ...       ...      ...         ...   \n",
       "5887      197.0      90.0        33.7     142.0      4.1       100.0   \n",
       "5891      296.0      89.0        31.7     138.0      4.4       103.0   \n",
       "5893      184.0     114.0        30.2     140.0      4.6       232.0   \n",
       "5895      319.0      88.0        30.9     139.0      3.6       106.0   \n",
       "5918      239.0     114.0        28.7     144.0      4.0       140.0   \n",
       "\n",
       "      preop_alb  preop_ast  preop_alt  preop_bun  preop_cr  intraop_uo  \\\n",
       "0           4.3       18.0       16.0       10.0      0.82       300.0   \n",
       "19          4.6       20.0       18.0       15.0      0.65       350.0   \n",
       "28          3.6       21.0       15.0       11.0      0.58       120.0   \n",
       "47          4.3       22.0       41.0        7.0      0.67       400.0   \n",
       "53          4.4       22.0       14.0       11.0      1.06        10.0   \n",
       "...         ...        ...        ...        ...       ...         ...   \n",
       "5887        3.8       16.0       12.0       19.0      0.74       250.0   \n",
       "5891        3.9       14.0        9.0       15.0      0.99       350.0   \n",
       "5893        3.8       54.0       68.0       20.0      0.73       265.0   \n",
       "5895        3.5       12.0        4.0        5.0      0.53       180.0   \n",
       "5918        3.7       18.0       28.0       19.0      0.84       250.0   \n",
       "\n",
       "      intraop_crystalloid  intraop_ppf  intraop_ftn  intraop_rocu  \\\n",
       "0                   350.0          120          100            70   \n",
       "19                  750.0          100          100           100   \n",
       "28                   -1.0            0            0            90   \n",
       "47                 2650.0            0            0           100   \n",
       "53                  650.0            0            0            75   \n",
       "...                   ...          ...          ...           ...   \n",
       "5887                700.0            0            0            90   \n",
       "5891               2800.0          100          100           140   \n",
       "5893               1700.0            0            0            80   \n",
       "5895               1800.0          100            0           100   \n",
       "5918               2500.0          100            0           100   \n",
       "\n",
       "      intraop_eph  label  \n",
       "0              10      2  \n",
       "19             10      1  \n",
       "28              5      1  \n",
       "47              5      1  \n",
       "53              5      1  \n",
       "...           ...    ...  \n",
       "5887           15      1  \n",
       "5891           15      1  \n",
       "5893           55      2  \n",
       "5895           15      1  \n",
       "5918           25      2  \n",
       "\n",
       "[604 rows x 27 columns]"
      ]
     },
     "execution_count": 74,
     "metadata": {},
     "output_type": "execute_result"
    }
   ],
   "source": [
    "label = cluster_ids['label']\n",
    "label = label.to_list()\n",
    "data['label'] = label\n",
    "data"
   ]
  },
  {
   "cell_type": "code",
   "execution_count": 57,
   "id": "610449c6",
   "metadata": {},
   "outputs": [],
   "source": [
    "cluster_one = cluster_ids.caseid[cluster_ids['label'].eq(0)]\n",
    "cluster_two = cluster_ids.caseid[cluster_ids['label'].eq(1)]\n",
    "cluster_three = cluster_ids.caseid[cluster_ids['label'].eq(2)]"
   ]
  },
  {
   "cell_type": "code",
   "execution_count": 59,
   "id": "58910721",
   "metadata": {},
   "outputs": [],
   "source": [
    "cluster_one = cluster_one.to_numpy()\n",
    "cluster_two = cluster_two.to_numpy()\n",
    "cluster_three = cluster_three.to_numpy()"
   ]
  },
  {
   "cell_type": "code",
   "execution_count": 60,
   "id": "4702da7d",
   "metadata": {},
   "outputs": [
    {
     "data": {
      "text/plain": [
       "array([ 192,  196,  207,  243,  600,  780,  965, 1021, 1155, 1258, 1316,\n",
       "       1483, 1568, 1671, 2068, 2242, 2373, 2634, 2712, 2928, 3170, 3609,\n",
       "       3695, 3982, 4007, 4269, 4657, 4759, 4783, 5196, 5297, 5345, 5523,\n",
       "       5596, 6112, 6241])"
      ]
     },
     "execution_count": 60,
     "metadata": {},
     "output_type": "execute_result"
    }
   ],
   "source": [
    "cluster_one"
   ]
  },
  {
   "cell_type": "code",
   "execution_count": 61,
   "id": "970020df",
   "metadata": {},
   "outputs": [
    {
     "data": {
      "text/plain": [
       "array([  21,   30,   50,   57,   62,  109,  116,  124,  140,  166,  194,\n",
       "        211,  220,  224,  239,  269,  305,  313,  320,  323,  351,  384,\n",
       "        446,  465,  483,  487,  498,  501,  503,  534,  548,  606,  608,\n",
       "        612,  613,  616,  651,  653,  664,  681,  687,  696,  707,  739,\n",
       "        755,  782,  799,  801,  832,  927,  930,  937,  958,  975,  978,\n",
       "        982, 1026, 1081, 1082, 1104, 1130, 1134, 1137, 1167, 1175, 1189,\n",
       "       1201, 1210, 1214, 1236, 1255, 1308, 1315, 1359, 1378, 1401, 1405,\n",
       "       1421, 1422, 1434, 1435, 1450, 1453, 1467, 1476, 1479, 1502, 1508,\n",
       "       1526, 1562, 1591, 1655, 1666, 1694, 1718, 1721, 1731, 1741, 1742,\n",
       "       1766, 1788, 1796, 1803, 1813, 1824, 1854, 1859, 1873, 1880, 1928,\n",
       "       1934, 1993, 2037, 2082, 2100, 2104, 2108, 2126, 2201, 2215, 2229,\n",
       "       2235, 2255, 2302, 2308, 2343, 2345, 2346, 2351, 2362, 2363, 2371,\n",
       "       2389, 2407, 2430, 2431, 2462, 2475, 2496, 2506, 2517, 2551, 2565,\n",
       "       2567, 2570, 2624, 2630, 2707, 2754, 2767, 2779, 2792, 2800, 2805,\n",
       "       2820, 2825, 2829, 2842, 2881, 2885, 2921, 2930, 2936, 2937, 2953,\n",
       "       2989, 3048, 3052, 3059, 3079, 3110, 3163, 3183, 3195, 3213, 3224,\n",
       "       3234, 3253, 3254, 3265, 3302, 3326, 3356, 3358, 3382, 3397, 3398,\n",
       "       3413, 3427, 3449, 3480, 3531, 3535, 3546, 3547, 3552, 3557, 3562,\n",
       "       3597, 3620, 3621, 3624, 3638, 3656, 3677, 3678, 3684, 3713, 3732,\n",
       "       3764, 3779, 3780, 3786, 3801, 3851, 3893, 3914, 3920, 3961, 4028,\n",
       "       4057, 4075, 4087, 4097, 4114, 4154, 4160, 4229, 4248, 4249, 4257,\n",
       "       4288, 4303, 4326, 4334, 4363, 4375, 4378, 4383, 4395, 4432, 4437,\n",
       "       4451, 4456, 4469, 4482, 4491, 4517, 4608, 4646, 4670, 4688, 4709,\n",
       "       4735, 4770, 4773, 4775, 4826, 4840, 4848, 4850, 4874, 4897, 4912,\n",
       "       4925, 4948, 4962, 4970, 4972, 5011, 5013, 5032, 5041, 5046, 5050,\n",
       "       5086, 5087, 5115, 5128, 5130, 5139, 5140, 5167, 5187, 5198, 5211,\n",
       "       5215, 5229, 5263, 5279, 5295, 5361, 5387, 5395, 5402, 5423, 5469,\n",
       "       5494, 5506, 5516, 5566, 5568, 5570, 5600, 5627, 5631, 5639, 5644,\n",
       "       5672, 5700, 5731, 5742, 5756, 5786, 5798, 5821, 5828, 5834, 5879,\n",
       "       5881, 5900, 5911, 5913, 5927, 5935, 5960, 5968, 5984, 6001, 6023,\n",
       "       6036, 6045, 6116, 6137, 6146, 6210, 6214, 6225, 6226, 6253, 6263,\n",
       "       6272, 6294, 6317, 6325, 6352, 6356, 6360])"
      ]
     },
     "execution_count": 61,
     "metadata": {},
     "output_type": "execute_result"
    }
   ],
   "source": [
    "cluster_two"
   ]
  },
  {
   "cell_type": "code",
   "execution_count": 62,
   "id": "a234a029",
   "metadata": {},
   "outputs": [
    {
     "data": {
      "text/plain": [
       "array([   1,   88,  133,  135,  230,  238,  329,  459,  476,  489,  517,\n",
       "        525,  535,  551,  569,  581,  591,  618,  808,  820,  830,  851,\n",
       "        859,  865,  873,  898,  924,  939,  966, 1086, 1088, 1149, 1156,\n",
       "       1200, 1207, 1232, 1244, 1259, 1311, 1367, 1379, 1381, 1457, 1461,\n",
       "       1492, 1494, 1499, 1510, 1567, 1625, 1709, 1743, 1764, 1767, 1792,\n",
       "       1815, 1819, 1826, 1879, 1923, 1965, 1977, 2003, 2026, 2038, 2045,\n",
       "       2054, 2078, 2094, 2105, 2107, 2109, 2124, 2190, 2220, 2247, 2248,\n",
       "       2265, 2278, 2287, 2306, 2316, 2372, 2378, 2448, 2456, 2470, 2491,\n",
       "       2501, 2531, 2540, 2549, 2559, 2580, 2588, 2617, 2649, 2693, 2773,\n",
       "       2784, 2813, 2834, 2863, 2886, 2923, 2934, 2957, 3022, 3029, 3039,\n",
       "       3053, 3062, 3155, 3161, 3180, 3189, 3227, 3250, 3283, 3285, 3310,\n",
       "       3314, 3343, 3401, 3423, 3431, 3477, 3494, 3496, 3512, 3532, 3604,\n",
       "       3623, 3639, 3670, 3703, 3704, 3714, 3724, 3728, 3735, 3754, 3761,\n",
       "       3788, 3808, 3823, 3874, 3918, 3924, 3933, 3943, 3992, 4010, 4110,\n",
       "       4121, 4158, 4186, 4225, 4354, 4355, 4366, 4458, 4531, 4563, 4607,\n",
       "       4617, 4626, 4627, 4686, 4691, 4701, 4711, 4729, 4825, 4829, 4888,\n",
       "       4898, 4909, 4943, 5017, 5020, 5068, 5206, 5221, 5249, 5252, 5284,\n",
       "       5293, 5318, 5335, 5378, 5400, 5465, 5509, 5540, 5555, 5582, 5601,\n",
       "       5658, 5716, 5734, 5737, 5741, 5764, 5888, 5949, 6059, 6118, 6123,\n",
       "       6133, 6181, 6218, 6231, 6232, 6265, 6316, 6321, 6340, 6358, 6385])"
      ]
     },
     "execution_count": 62,
     "metadata": {},
     "output_type": "execute_result"
    }
   ],
   "source": [
    "cluster_three"
   ]
  },
  {
   "cell_type": "code",
   "execution_count": 63,
   "id": "4037ab1d",
   "metadata": {},
   "outputs": [],
   "source": [
    "import scipy.stats as stat\n",
    "from tableone import TableOne"
   ]
  },
  {
   "cell_type": "code",
   "execution_count": 77,
   "id": "c993ca15",
   "metadata": {},
   "outputs": [],
   "source": [
    "categoricals = [col for col in data_tableone.columns if data_tableone[col].dtype == 'object' or data_tableone[col].dtype == 'str' or len(data_tableone[col].unique()) < 7]"
   ]
  },
  {
   "cell_type": "code",
   "execution_count": 78,
   "id": "10203052",
   "metadata": {},
   "outputs": [
    {
     "data": {
      "text/plain": [
       "['asa', 'preop_htn', 'preop_dm', 'intraop_ftn', 'label']"
      ]
     },
     "execution_count": 78,
     "metadata": {},
     "output_type": "execute_result"
    }
   ],
   "source": [
    "categoricals"
   ]
  },
  {
   "cell_type": "code",
   "execution_count": 76,
   "id": "19d76eb3",
   "metadata": {},
   "outputs": [
    {
     "data": {
      "text/html": [
       "<div>\n",
       "<style scoped>\n",
       "    .dataframe tbody tr th:only-of-type {\n",
       "        vertical-align: middle;\n",
       "    }\n",
       "\n",
       "    .dataframe tbody tr th {\n",
       "        vertical-align: top;\n",
       "    }\n",
       "\n",
       "    .dataframe thead tr th {\n",
       "        text-align: left;\n",
       "    }\n",
       "</style>\n",
       "<table border=\"1\" class=\"dataframe\">\n",
       "  <thead>\n",
       "    <tr>\n",
       "      <th></th>\n",
       "      <th></th>\n",
       "      <th colspan=\"6\" halign=\"left\">Grouped by label</th>\n",
       "    </tr>\n",
       "    <tr>\n",
       "      <th></th>\n",
       "      <th></th>\n",
       "      <th>Overall</th>\n",
       "      <th>0</th>\n",
       "      <th>1</th>\n",
       "      <th>2</th>\n",
       "      <th>P-Value</th>\n",
       "      <th>Test</th>\n",
       "    </tr>\n",
       "  </thead>\n",
       "  <tbody>\n",
       "    <tr>\n",
       "      <th>n</th>\n",
       "      <th></th>\n",
       "      <td>604</td>\n",
       "      <td>36</td>\n",
       "      <td>348</td>\n",
       "      <td>220</td>\n",
       "      <td></td>\n",
       "      <td></td>\n",
       "    </tr>\n",
       "    <tr>\n",
       "      <th>age, mean (SD)</th>\n",
       "      <th></th>\n",
       "      <td>62.7 (12.1)</td>\n",
       "      <td>65.3 (12.8)</td>\n",
       "      <td>59.6 (12.4)</td>\n",
       "      <td>67.2 (9.9)</td>\n",
       "      <td>&lt;0.001</td>\n",
       "      <td>One-way ANOVA</td>\n",
       "    </tr>\n",
       "    <tr>\n",
       "      <th>height, mean (SD)</th>\n",
       "      <th></th>\n",
       "      <td>161.8 (8.7)</td>\n",
       "      <td>159.1 (8.5)</td>\n",
       "      <td>162.5 (8.6)</td>\n",
       "      <td>161.3 (8.6)</td>\n",
       "      <td>0.036</td>\n",
       "      <td>One-way ANOVA</td>\n",
       "    </tr>\n",
       "    <tr>\n",
       "      <th>weight, mean (SD)</th>\n",
       "      <th></th>\n",
       "      <td>60.7 (10.9)</td>\n",
       "      <td>58.3 (12.4)</td>\n",
       "      <td>60.2 (10.9)</td>\n",
       "      <td>61.9 (10.6)</td>\n",
       "      <td>0.079</td>\n",
       "      <td>One-way ANOVA</td>\n",
       "    </tr>\n",
       "    <tr>\n",
       "      <th>bmi, mean (SD)</th>\n",
       "      <th></th>\n",
       "      <td>23.1 (3.5)</td>\n",
       "      <td>22.9 (3.7)</td>\n",
       "      <td>22.8 (3.5)</td>\n",
       "      <td>23.8 (3.4)</td>\n",
       "      <td>0.004</td>\n",
       "      <td>One-way ANOVA</td>\n",
       "    </tr>\n",
       "    <tr>\n",
       "      <th>asa, mean (SD)</th>\n",
       "      <th></th>\n",
       "      <td>1.8 (0.7)</td>\n",
       "      <td>0.9 (1.2)</td>\n",
       "      <td>1.7 (0.6)</td>\n",
       "      <td>2.1 (0.5)</td>\n",
       "      <td>&lt;0.001</td>\n",
       "      <td>One-way ANOVA</td>\n",
       "    </tr>\n",
       "    <tr>\n",
       "      <th rowspan=\"2\" valign=\"top\">preop_htn, n (%)</th>\n",
       "      <th>0</th>\n",
       "      <td>373 (61.8)</td>\n",
       "      <td>25 (69.4)</td>\n",
       "      <td>348 (100.0)</td>\n",
       "      <td></td>\n",
       "      <td>&lt;0.001</td>\n",
       "      <td>Chi-squared</td>\n",
       "    </tr>\n",
       "    <tr>\n",
       "      <th>1</th>\n",
       "      <td>231 (38.2)</td>\n",
       "      <td>11 (30.6)</td>\n",
       "      <td></td>\n",
       "      <td>220 (100.0)</td>\n",
       "      <td></td>\n",
       "      <td></td>\n",
       "    </tr>\n",
       "    <tr>\n",
       "      <th rowspan=\"2\" valign=\"top\">preop_dm, n (%)</th>\n",
       "      <th>0</th>\n",
       "      <td>518 (85.8)</td>\n",
       "      <td>31 (86.1)</td>\n",
       "      <td>311 (89.4)</td>\n",
       "      <td>176 (80.0)</td>\n",
       "      <td>0.008</td>\n",
       "      <td>Chi-squared</td>\n",
       "    </tr>\n",
       "    <tr>\n",
       "      <th>1</th>\n",
       "      <td>86 (14.2)</td>\n",
       "      <td>5 (13.9)</td>\n",
       "      <td>37 (10.6)</td>\n",
       "      <td>44 (20.0)</td>\n",
       "      <td></td>\n",
       "      <td></td>\n",
       "    </tr>\n",
       "    <tr>\n",
       "      <th>preop_hb, mean (SD)</th>\n",
       "      <th></th>\n",
       "      <td>12.0 (2.9)</td>\n",
       "      <td>6.7 (6.5)</td>\n",
       "      <td>12.4 (2.1)</td>\n",
       "      <td>12.3 (2.2)</td>\n",
       "      <td>&lt;0.001</td>\n",
       "      <td>One-way ANOVA</td>\n",
       "    </tr>\n",
       "    <tr>\n",
       "      <th>preop_plt, mean (SD)</th>\n",
       "      <th></th>\n",
       "      <td>257.2 (92.9)</td>\n",
       "      <td>179.6 (143.7)</td>\n",
       "      <td>262.6 (84.3)</td>\n",
       "      <td>261.4 (90.2)</td>\n",
       "      <td>&lt;0.001</td>\n",
       "      <td>One-way ANOVA</td>\n",
       "    </tr>\n",
       "    <tr>\n",
       "      <th>preop_pt, mean (SD)</th>\n",
       "      <th></th>\n",
       "      <td>98.0 (22.0)</td>\n",
       "      <td>61.8 (49.5)</td>\n",
       "      <td>99.3 (17.0)</td>\n",
       "      <td>101.9 (15.6)</td>\n",
       "      <td>&lt;0.001</td>\n",
       "      <td>One-way ANOVA</td>\n",
       "    </tr>\n",
       "    <tr>\n",
       "      <th>preop_aptt, mean (SD)</th>\n",
       "      <th></th>\n",
       "      <td>31.7 (7.7)</td>\n",
       "      <td>19.7 (17.0)</td>\n",
       "      <td>32.3 (5.2)</td>\n",
       "      <td>32.8 (6.8)</td>\n",
       "      <td>&lt;0.001</td>\n",
       "      <td>One-way ANOVA</td>\n",
       "    </tr>\n",
       "    <tr>\n",
       "      <th>preop_na, mean (SD)</th>\n",
       "      <th></th>\n",
       "      <td>132.1 (33.7)</td>\n",
       "      <td>-1.0 (0.0)</td>\n",
       "      <td>140.6 (2.9)</td>\n",
       "      <td>140.4 (2.7)</td>\n",
       "      <td>&lt;0.001</td>\n",
       "      <td>One-way ANOVA</td>\n",
       "    </tr>\n",
       "    <tr>\n",
       "      <th>preop_k, mean (SD)</th>\n",
       "      <th></th>\n",
       "      <td>3.8 (1.3)</td>\n",
       "      <td>-1.0 (0.0)</td>\n",
       "      <td>4.1 (0.4)</td>\n",
       "      <td>4.1 (0.4)</td>\n",
       "      <td>&lt;0.001</td>\n",
       "      <td>One-way ANOVA</td>\n",
       "    </tr>\n",
       "    <tr>\n",
       "      <th>preop_gluc, mean (SD)</th>\n",
       "      <th></th>\n",
       "      <td>114.7 (48.6)</td>\n",
       "      <td>75.7 (58.0)</td>\n",
       "      <td>113.3 (43.2)</td>\n",
       "      <td>123.5 (51.8)</td>\n",
       "      <td>&lt;0.001</td>\n",
       "      <td>One-way ANOVA</td>\n",
       "    </tr>\n",
       "    <tr>\n",
       "      <th>preop_alb, mean (SD)</th>\n",
       "      <th></th>\n",
       "      <td>3.8 (0.9)</td>\n",
       "      <td>1.8 (2.4)</td>\n",
       "      <td>4.0 (0.5)</td>\n",
       "      <td>3.9 (0.6)</td>\n",
       "      <td>&lt;0.001</td>\n",
       "      <td>One-way ANOVA</td>\n",
       "    </tr>\n",
       "    <tr>\n",
       "      <th>preop_ast, mean (SD)</th>\n",
       "      <th></th>\n",
       "      <td>22.1 (13.7)</td>\n",
       "      <td>15.5 (15.6)</td>\n",
       "      <td>22.1 (13.6)</td>\n",
       "      <td>23.1 (13.4)</td>\n",
       "      <td>0.009</td>\n",
       "      <td>One-way ANOVA</td>\n",
       "    </tr>\n",
       "    <tr>\n",
       "      <th>preop_alt, mean (SD)</th>\n",
       "      <th></th>\n",
       "      <td>19.1 (15.2)</td>\n",
       "      <td>11.4 (13.5)</td>\n",
       "      <td>19.4 (14.8)</td>\n",
       "      <td>19.9 (15.8)</td>\n",
       "      <td>0.007</td>\n",
       "      <td>One-way ANOVA</td>\n",
       "    </tr>\n",
       "    <tr>\n",
       "      <th>preop_bun, mean (SD)</th>\n",
       "      <th></th>\n",
       "      <td>14.2 (6.8)</td>\n",
       "      <td>10.2 (9.3)</td>\n",
       "      <td>13.5 (5.0)</td>\n",
       "      <td>16.0 (8.2)</td>\n",
       "      <td>&lt;0.001</td>\n",
       "      <td>One-way ANOVA</td>\n",
       "    </tr>\n",
       "    <tr>\n",
       "      <th>preop_cr, mean (SD)</th>\n",
       "      <th></th>\n",
       "      <td>0.9 (0.9)</td>\n",
       "      <td>0.0 (0.9)</td>\n",
       "      <td>0.8 (0.5)</td>\n",
       "      <td>1.0 (1.2)</td>\n",
       "      <td>&lt;0.001</td>\n",
       "      <td>One-way ANOVA</td>\n",
       "    </tr>\n",
       "    <tr>\n",
       "      <th>intraop_uo, mean (SD)</th>\n",
       "      <th></th>\n",
       "      <td>186.2 (206.5)</td>\n",
       "      <td>182.9 (197.9)</td>\n",
       "      <td>191.3 (195.1)</td>\n",
       "      <td>178.6 (225.3)</td>\n",
       "      <td>0.770</td>\n",
       "      <td>One-way ANOVA</td>\n",
       "    </tr>\n",
       "    <tr>\n",
       "      <th>intraop_crystalloid, mean (SD)</th>\n",
       "      <th></th>\n",
       "      <td>992.1 (909.9)</td>\n",
       "      <td>1113.0 (1125.1)</td>\n",
       "      <td>993.6 (886.1)</td>\n",
       "      <td>970.0 (911.3)</td>\n",
       "      <td>0.682</td>\n",
       "      <td>One-way ANOVA</td>\n",
       "    </tr>\n",
       "    <tr>\n",
       "      <th>intraop_ppf, mean (SD)</th>\n",
       "      <th></th>\n",
       "      <td>52.6 (56.3)</td>\n",
       "      <td>62.5 (56.7)</td>\n",
       "      <td>53.1 (56.7)</td>\n",
       "      <td>50.2 (55.8)</td>\n",
       "      <td>0.467</td>\n",
       "      <td>One-way ANOVA</td>\n",
       "    </tr>\n",
       "    <tr>\n",
       "      <th>intraop_ftn, mean (SD)</th>\n",
       "      <th></th>\n",
       "      <td>25.4 (45.9)</td>\n",
       "      <td>45.8 (57.8)</td>\n",
       "      <td>24.9 (45.6)</td>\n",
       "      <td>23.0 (43.6)</td>\n",
       "      <td>0.020</td>\n",
       "      <td>One-way ANOVA</td>\n",
       "    </tr>\n",
       "    <tr>\n",
       "      <th>intraop_rocu, mean (SD)</th>\n",
       "      <th></th>\n",
       "      <td>84.4 (24.1)</td>\n",
       "      <td>83.3 (30.4)</td>\n",
       "      <td>85.8 (23.3)</td>\n",
       "      <td>82.4 (24.3)</td>\n",
       "      <td>0.255</td>\n",
       "      <td>One-way ANOVA</td>\n",
       "    </tr>\n",
       "    <tr>\n",
       "      <th>intraop_eph, mean (SD)</th>\n",
       "      <th></th>\n",
       "      <td>10.0 (12.2)</td>\n",
       "      <td>14.3 (20.7)</td>\n",
       "      <td>9.0 (11.1)</td>\n",
       "      <td>10.8 (11.9)</td>\n",
       "      <td>0.020</td>\n",
       "      <td>One-way ANOVA</td>\n",
       "    </tr>\n",
       "  </tbody>\n",
       "</table>\n",
       "</div><br />"
      ],
      "text/plain": [
       "                                 Grouped by label                                                                      \n",
       "                                          Overall                0              1              2 P-Value           Test\n",
       "n                                             604               36            348            220                       \n",
       "age, mean (SD)                        62.7 (12.1)      65.3 (12.8)    59.6 (12.4)     67.2 (9.9)  <0.001  One-way ANOVA\n",
       "height, mean (SD)                     161.8 (8.7)      159.1 (8.5)    162.5 (8.6)    161.3 (8.6)   0.036  One-way ANOVA\n",
       "weight, mean (SD)                     60.7 (10.9)      58.3 (12.4)    60.2 (10.9)    61.9 (10.6)   0.079  One-way ANOVA\n",
       "bmi, mean (SD)                         23.1 (3.5)       22.9 (3.7)     22.8 (3.5)     23.8 (3.4)   0.004  One-way ANOVA\n",
       "asa, mean (SD)                          1.8 (0.7)        0.9 (1.2)      1.7 (0.6)      2.1 (0.5)  <0.001  One-way ANOVA\n",
       "preop_htn, n (%)               0       373 (61.8)        25 (69.4)    348 (100.0)                 <0.001    Chi-squared\n",
       "                               1       231 (38.2)        11 (30.6)                   220 (100.0)                       \n",
       "preop_dm, n (%)                0       518 (85.8)        31 (86.1)     311 (89.4)     176 (80.0)   0.008    Chi-squared\n",
       "                               1        86 (14.2)         5 (13.9)      37 (10.6)      44 (20.0)                       \n",
       "preop_hb, mean (SD)                    12.0 (2.9)        6.7 (6.5)     12.4 (2.1)     12.3 (2.2)  <0.001  One-way ANOVA\n",
       "preop_plt, mean (SD)                 257.2 (92.9)    179.6 (143.7)   262.6 (84.3)   261.4 (90.2)  <0.001  One-way ANOVA\n",
       "preop_pt, mean (SD)                   98.0 (22.0)      61.8 (49.5)    99.3 (17.0)   101.9 (15.6)  <0.001  One-way ANOVA\n",
       "preop_aptt, mean (SD)                  31.7 (7.7)      19.7 (17.0)     32.3 (5.2)     32.8 (6.8)  <0.001  One-way ANOVA\n",
       "preop_na, mean (SD)                  132.1 (33.7)       -1.0 (0.0)    140.6 (2.9)    140.4 (2.7)  <0.001  One-way ANOVA\n",
       "preop_k, mean (SD)                      3.8 (1.3)       -1.0 (0.0)      4.1 (0.4)      4.1 (0.4)  <0.001  One-way ANOVA\n",
       "preop_gluc, mean (SD)                114.7 (48.6)      75.7 (58.0)   113.3 (43.2)   123.5 (51.8)  <0.001  One-way ANOVA\n",
       "preop_alb, mean (SD)                    3.8 (0.9)        1.8 (2.4)      4.0 (0.5)      3.9 (0.6)  <0.001  One-way ANOVA\n",
       "preop_ast, mean (SD)                  22.1 (13.7)      15.5 (15.6)    22.1 (13.6)    23.1 (13.4)   0.009  One-way ANOVA\n",
       "preop_alt, mean (SD)                  19.1 (15.2)      11.4 (13.5)    19.4 (14.8)    19.9 (15.8)   0.007  One-way ANOVA\n",
       "preop_bun, mean (SD)                   14.2 (6.8)       10.2 (9.3)     13.5 (5.0)     16.0 (8.2)  <0.001  One-way ANOVA\n",
       "preop_cr, mean (SD)                     0.9 (0.9)        0.0 (0.9)      0.8 (0.5)      1.0 (1.2)  <0.001  One-way ANOVA\n",
       "intraop_uo, mean (SD)               186.2 (206.5)    182.9 (197.9)  191.3 (195.1)  178.6 (225.3)   0.770  One-way ANOVA\n",
       "intraop_crystalloid, mean (SD)      992.1 (909.9)  1113.0 (1125.1)  993.6 (886.1)  970.0 (911.3)   0.682  One-way ANOVA\n",
       "intraop_ppf, mean (SD)                52.6 (56.3)      62.5 (56.7)    53.1 (56.7)    50.2 (55.8)   0.467  One-way ANOVA\n",
       "intraop_ftn, mean (SD)                25.4 (45.9)      45.8 (57.8)    24.9 (45.6)    23.0 (43.6)   0.020  One-way ANOVA\n",
       "intraop_rocu, mean (SD)               84.4 (24.1)      83.3 (30.4)    85.8 (23.3)    82.4 (24.3)   0.255  One-way ANOVA\n",
       "intraop_eph, mean (SD)                10.0 (12.2)      14.3 (20.7)     9.0 (11.1)    10.8 (11.9)   0.020  One-way ANOVA"
      ]
     },
     "execution_count": 76,
     "metadata": {},
     "output_type": "execute_result"
    }
   ],
   "source": [
    "data_tableone = data.drop(['caseid'], axis=1)\n",
    "tbl_label = TableOne(data_tableone, columns=list(data_tableone.columns), missing=False, groupby='label',  pval=True, htest_name=True)\n",
    "pd.set_option('display.max_rows', 500)\n",
    "tbl_label"
   ]
  },
  {
   "cell_type": "code",
   "execution_count": 82,
   "id": "32ba6cd3",
   "metadata": {},
   "outputs": [
    {
     "data": {
      "text/html": [
       "<div>\n",
       "<style scoped>\n",
       "    .dataframe tbody tr th:only-of-type {\n",
       "        vertical-align: middle;\n",
       "    }\n",
       "\n",
       "    .dataframe tbody tr th {\n",
       "        vertical-align: top;\n",
       "    }\n",
       "\n",
       "    .dataframe thead tr th {\n",
       "        text-align: left;\n",
       "    }\n",
       "</style>\n",
       "<table border=\"1\" class=\"dataframe\">\n",
       "  <thead>\n",
       "    <tr>\n",
       "      <th></th>\n",
       "      <th></th>\n",
       "      <th colspan=\"5\" halign=\"left\">Grouped by label</th>\n",
       "    </tr>\n",
       "    <tr>\n",
       "      <th></th>\n",
       "      <th></th>\n",
       "      <th>Overall</th>\n",
       "      <th>0</th>\n",
       "      <th>1</th>\n",
       "      <th>2</th>\n",
       "      <th>P-Value</th>\n",
       "    </tr>\n",
       "  </thead>\n",
       "  <tbody>\n",
       "    <tr>\n",
       "      <th>n</th>\n",
       "      <th></th>\n",
       "      <td>604</td>\n",
       "      <td>36</td>\n",
       "      <td>348</td>\n",
       "      <td>220</td>\n",
       "      <td></td>\n",
       "    </tr>\n",
       "    <tr>\n",
       "      <th>age, mean (SD)</th>\n",
       "      <th></th>\n",
       "      <td>62.7 (12.1)</td>\n",
       "      <td>65.3 (12.8)</td>\n",
       "      <td>59.6 (12.4)</td>\n",
       "      <td>67.2 (9.9)</td>\n",
       "      <td>&lt;0.001</td>\n",
       "    </tr>\n",
       "    <tr>\n",
       "      <th>height, mean (SD)</th>\n",
       "      <th></th>\n",
       "      <td>161.8 (8.7)</td>\n",
       "      <td>159.1 (8.5)</td>\n",
       "      <td>162.5 (8.6)</td>\n",
       "      <td>161.3 (8.6)</td>\n",
       "      <td>0.036</td>\n",
       "    </tr>\n",
       "    <tr>\n",
       "      <th>weight, mean (SD)</th>\n",
       "      <th></th>\n",
       "      <td>60.7 (10.9)</td>\n",
       "      <td>58.3 (12.4)</td>\n",
       "      <td>60.2 (10.9)</td>\n",
       "      <td>61.9 (10.6)</td>\n",
       "      <td>0.079</td>\n",
       "    </tr>\n",
       "    <tr>\n",
       "      <th>bmi, mean (SD)</th>\n",
       "      <th></th>\n",
       "      <td>23.1 (3.5)</td>\n",
       "      <td>22.9 (3.7)</td>\n",
       "      <td>22.8 (3.5)</td>\n",
       "      <td>23.8 (3.4)</td>\n",
       "      <td>0.004</td>\n",
       "    </tr>\n",
       "    <tr>\n",
       "      <th rowspan=\"5\" valign=\"top\">asa, n (%)</th>\n",
       "      <th>-1.0</th>\n",
       "      <td>10 (1.7)</td>\n",
       "      <td>10 (27.8)</td>\n",
       "      <td></td>\n",
       "      <td></td>\n",
       "      <td>&lt;0.001</td>\n",
       "    </tr>\n",
       "    <tr>\n",
       "      <th>1.0</th>\n",
       "      <td>155 (25.7)</td>\n",
       "      <td>11 (30.6)</td>\n",
       "      <td>136 (39.1)</td>\n",
       "      <td>8 (3.6)</td>\n",
       "      <td></td>\n",
       "    </tr>\n",
       "    <tr>\n",
       "      <th>2.0</th>\n",
       "      <td>377 (62.4)</td>\n",
       "      <td>15 (41.7)</td>\n",
       "      <td>188 (54.0)</td>\n",
       "      <td>174 (79.1)</td>\n",
       "      <td></td>\n",
       "    </tr>\n",
       "    <tr>\n",
       "      <th>3.0</th>\n",
       "      <td>61 (10.1)</td>\n",
       "      <td></td>\n",
       "      <td>24 (6.9)</td>\n",
       "      <td>37 (16.8)</td>\n",
       "      <td></td>\n",
       "    </tr>\n",
       "    <tr>\n",
       "      <th>4.0</th>\n",
       "      <td>1 (0.2)</td>\n",
       "      <td></td>\n",
       "      <td></td>\n",
       "      <td>1 (0.5)</td>\n",
       "      <td></td>\n",
       "    </tr>\n",
       "    <tr>\n",
       "      <th rowspan=\"2\" valign=\"top\">preop_htn, n (%)</th>\n",
       "      <th>0</th>\n",
       "      <td>373 (61.8)</td>\n",
       "      <td>25 (69.4)</td>\n",
       "      <td>348 (100.0)</td>\n",
       "      <td></td>\n",
       "      <td>&lt;0.001</td>\n",
       "    </tr>\n",
       "    <tr>\n",
       "      <th>1</th>\n",
       "      <td>231 (38.2)</td>\n",
       "      <td>11 (30.6)</td>\n",
       "      <td></td>\n",
       "      <td>220 (100.0)</td>\n",
       "      <td></td>\n",
       "    </tr>\n",
       "    <tr>\n",
       "      <th rowspan=\"2\" valign=\"top\">preop_dm, n (%)</th>\n",
       "      <th>0</th>\n",
       "      <td>518 (85.8)</td>\n",
       "      <td>31 (86.1)</td>\n",
       "      <td>311 (89.4)</td>\n",
       "      <td>176 (80.0)</td>\n",
       "      <td>0.008</td>\n",
       "    </tr>\n",
       "    <tr>\n",
       "      <th>1</th>\n",
       "      <td>86 (14.2)</td>\n",
       "      <td>5 (13.9)</td>\n",
       "      <td>37 (10.6)</td>\n",
       "      <td>44 (20.0)</td>\n",
       "      <td></td>\n",
       "    </tr>\n",
       "    <tr>\n",
       "      <th>preop_hb, mean (SD)</th>\n",
       "      <th></th>\n",
       "      <td>12.0 (2.9)</td>\n",
       "      <td>6.7 (6.5)</td>\n",
       "      <td>12.4 (2.1)</td>\n",
       "      <td>12.3 (2.2)</td>\n",
       "      <td>&lt;0.001</td>\n",
       "    </tr>\n",
       "    <tr>\n",
       "      <th>preop_plt, mean (SD)</th>\n",
       "      <th></th>\n",
       "      <td>257.2 (92.9)</td>\n",
       "      <td>179.6 (143.7)</td>\n",
       "      <td>262.6 (84.3)</td>\n",
       "      <td>261.4 (90.2)</td>\n",
       "      <td>&lt;0.001</td>\n",
       "    </tr>\n",
       "    <tr>\n",
       "      <th>preop_pt, mean (SD)</th>\n",
       "      <th></th>\n",
       "      <td>98.0 (22.0)</td>\n",
       "      <td>61.8 (49.5)</td>\n",
       "      <td>99.3 (17.0)</td>\n",
       "      <td>101.9 (15.6)</td>\n",
       "      <td>&lt;0.001</td>\n",
       "    </tr>\n",
       "    <tr>\n",
       "      <th>preop_aptt, mean (SD)</th>\n",
       "      <th></th>\n",
       "      <td>31.7 (7.7)</td>\n",
       "      <td>19.7 (17.0)</td>\n",
       "      <td>32.3 (5.2)</td>\n",
       "      <td>32.8 (6.8)</td>\n",
       "      <td>&lt;0.001</td>\n",
       "    </tr>\n",
       "    <tr>\n",
       "      <th>preop_na, mean (SD)</th>\n",
       "      <th></th>\n",
       "      <td>132.1 (33.7)</td>\n",
       "      <td>-1.0 (0.0)</td>\n",
       "      <td>140.6 (2.9)</td>\n",
       "      <td>140.4 (2.7)</td>\n",
       "      <td>&lt;0.001</td>\n",
       "    </tr>\n",
       "    <tr>\n",
       "      <th>preop_k, mean (SD)</th>\n",
       "      <th></th>\n",
       "      <td>3.8 (1.3)</td>\n",
       "      <td>-1.0 (0.0)</td>\n",
       "      <td>4.1 (0.4)</td>\n",
       "      <td>4.1 (0.4)</td>\n",
       "      <td>&lt;0.001</td>\n",
       "    </tr>\n",
       "    <tr>\n",
       "      <th>preop_gluc, mean (SD)</th>\n",
       "      <th></th>\n",
       "      <td>114.7 (48.6)</td>\n",
       "      <td>75.7 (58.0)</td>\n",
       "      <td>113.3 (43.2)</td>\n",
       "      <td>123.5 (51.8)</td>\n",
       "      <td>&lt;0.001</td>\n",
       "    </tr>\n",
       "    <tr>\n",
       "      <th>preop_alb, mean (SD)</th>\n",
       "      <th></th>\n",
       "      <td>3.8 (0.9)</td>\n",
       "      <td>1.8 (2.4)</td>\n",
       "      <td>4.0 (0.5)</td>\n",
       "      <td>3.9 (0.6)</td>\n",
       "      <td>&lt;0.001</td>\n",
       "    </tr>\n",
       "    <tr>\n",
       "      <th>preop_ast, mean (SD)</th>\n",
       "      <th></th>\n",
       "      <td>22.1 (13.7)</td>\n",
       "      <td>15.5 (15.6)</td>\n",
       "      <td>22.1 (13.6)</td>\n",
       "      <td>23.1 (13.4)</td>\n",
       "      <td>0.009</td>\n",
       "    </tr>\n",
       "    <tr>\n",
       "      <th>preop_alt, mean (SD)</th>\n",
       "      <th></th>\n",
       "      <td>19.1 (15.2)</td>\n",
       "      <td>11.4 (13.5)</td>\n",
       "      <td>19.4 (14.8)</td>\n",
       "      <td>19.9 (15.8)</td>\n",
       "      <td>0.007</td>\n",
       "    </tr>\n",
       "    <tr>\n",
       "      <th>preop_bun, mean (SD)</th>\n",
       "      <th></th>\n",
       "      <td>14.2 (6.8)</td>\n",
       "      <td>10.2 (9.3)</td>\n",
       "      <td>13.5 (5.0)</td>\n",
       "      <td>16.0 (8.2)</td>\n",
       "      <td>&lt;0.001</td>\n",
       "    </tr>\n",
       "    <tr>\n",
       "      <th>preop_cr, mean (SD)</th>\n",
       "      <th></th>\n",
       "      <td>0.9 (0.9)</td>\n",
       "      <td>0.0 (0.9)</td>\n",
       "      <td>0.8 (0.5)</td>\n",
       "      <td>1.0 (1.2)</td>\n",
       "      <td>&lt;0.001</td>\n",
       "    </tr>\n",
       "    <tr>\n",
       "      <th>intraop_uo, mean (SD)</th>\n",
       "      <th></th>\n",
       "      <td>186.2 (206.5)</td>\n",
       "      <td>182.9 (197.9)</td>\n",
       "      <td>191.3 (195.1)</td>\n",
       "      <td>178.6 (225.3)</td>\n",
       "      <td>0.770</td>\n",
       "    </tr>\n",
       "    <tr>\n",
       "      <th>intraop_crystalloid, mean (SD)</th>\n",
       "      <th></th>\n",
       "      <td>992.1 (909.9)</td>\n",
       "      <td>1113.0 (1125.1)</td>\n",
       "      <td>993.6 (886.1)</td>\n",
       "      <td>970.0 (911.3)</td>\n",
       "      <td>0.682</td>\n",
       "    </tr>\n",
       "    <tr>\n",
       "      <th>intraop_ppf, mean (SD)</th>\n",
       "      <th></th>\n",
       "      <td>52.6 (56.3)</td>\n",
       "      <td>62.5 (56.7)</td>\n",
       "      <td>53.1 (56.7)</td>\n",
       "      <td>50.2 (55.8)</td>\n",
       "      <td>0.467</td>\n",
       "    </tr>\n",
       "    <tr>\n",
       "      <th rowspan=\"5\" valign=\"top\">intraop_ftn, n (%)</th>\n",
       "      <th>0</th>\n",
       "      <td>452 (74.8)</td>\n",
       "      <td>21 (58.3)</td>\n",
       "      <td>262 (75.3)</td>\n",
       "      <td>169 (76.8)</td>\n",
       "      <td>0.140</td>\n",
       "    </tr>\n",
       "    <tr>\n",
       "      <th>100</th>\n",
       "      <td>128 (21.2)</td>\n",
       "      <td>13 (36.1)</td>\n",
       "      <td>71 (20.4)</td>\n",
       "      <td>44 (20.0)</td>\n",
       "      <td></td>\n",
       "    </tr>\n",
       "    <tr>\n",
       "      <th>150</th>\n",
       "      <td>3 (0.5)</td>\n",
       "      <td>1 (2.8)</td>\n",
       "      <td>2 (0.6)</td>\n",
       "      <td></td>\n",
       "      <td></td>\n",
       "    </tr>\n",
       "    <tr>\n",
       "      <th>200</th>\n",
       "      <td>7 (1.2)</td>\n",
       "      <td>1 (2.8)</td>\n",
       "      <td>4 (1.1)</td>\n",
       "      <td>2 (0.9)</td>\n",
       "      <td></td>\n",
       "    </tr>\n",
       "    <tr>\n",
       "      <th>50</th>\n",
       "      <td>14 (2.3)</td>\n",
       "      <td></td>\n",
       "      <td>9 (2.6)</td>\n",
       "      <td>5 (2.3)</td>\n",
       "      <td></td>\n",
       "    </tr>\n",
       "    <tr>\n",
       "      <th>intraop_rocu, mean (SD)</th>\n",
       "      <th></th>\n",
       "      <td>84.4 (24.1)</td>\n",
       "      <td>83.3 (30.4)</td>\n",
       "      <td>85.8 (23.3)</td>\n",
       "      <td>82.4 (24.3)</td>\n",
       "      <td>0.255</td>\n",
       "    </tr>\n",
       "    <tr>\n",
       "      <th>intraop_eph, mean (SD)</th>\n",
       "      <th></th>\n",
       "      <td>10.0 (12.2)</td>\n",
       "      <td>14.3 (20.7)</td>\n",
       "      <td>9.0 (11.1)</td>\n",
       "      <td>10.8 (11.9)</td>\n",
       "      <td>0.020</td>\n",
       "    </tr>\n",
       "    <tr>\n",
       "      <th rowspan=\"3\" valign=\"top\">label, n (%)</th>\n",
       "      <th>0</th>\n",
       "      <td>36 (6.0)</td>\n",
       "      <td>36 (100.0)</td>\n",
       "      <td></td>\n",
       "      <td></td>\n",
       "      <td>&lt;0.001</td>\n",
       "    </tr>\n",
       "    <tr>\n",
       "      <th>1</th>\n",
       "      <td>348 (57.6)</td>\n",
       "      <td></td>\n",
       "      <td>348 (100.0)</td>\n",
       "      <td></td>\n",
       "      <td></td>\n",
       "    </tr>\n",
       "    <tr>\n",
       "      <th>2</th>\n",
       "      <td>220 (36.4)</td>\n",
       "      <td></td>\n",
       "      <td></td>\n",
       "      <td>220 (100.0)</td>\n",
       "      <td></td>\n",
       "    </tr>\n",
       "  </tbody>\n",
       "</table>\n",
       "</div><br />[1] Chi-squared tests for the following variables may be invalid due to the low number of observations: asa, intraop_ftn, label.<br />"
      ],
      "text/plain": [
       "                                    Grouped by label                                                       \n",
       "                                             Overall                0              1              2 P-Value\n",
       "n                                                604               36            348            220        \n",
       "age, mean (SD)                           62.7 (12.1)      65.3 (12.8)    59.6 (12.4)     67.2 (9.9)  <0.001\n",
       "height, mean (SD)                        161.8 (8.7)      159.1 (8.5)    162.5 (8.6)    161.3 (8.6)   0.036\n",
       "weight, mean (SD)                        60.7 (10.9)      58.3 (12.4)    60.2 (10.9)    61.9 (10.6)   0.079\n",
       "bmi, mean (SD)                            23.1 (3.5)       22.9 (3.7)     22.8 (3.5)     23.8 (3.4)   0.004\n",
       "asa, n (%)                     -1.0         10 (1.7)        10 (27.8)                                <0.001\n",
       "                               1.0        155 (25.7)        11 (30.6)     136 (39.1)        8 (3.6)        \n",
       "                               2.0        377 (62.4)        15 (41.7)     188 (54.0)     174 (79.1)        \n",
       "                               3.0         61 (10.1)                        24 (6.9)      37 (16.8)        \n",
       "                               4.0           1 (0.2)                                        1 (0.5)        \n",
       "preop_htn, n (%)               0          373 (61.8)        25 (69.4)    348 (100.0)                 <0.001\n",
       "                               1          231 (38.2)        11 (30.6)                   220 (100.0)        \n",
       "preop_dm, n (%)                0          518 (85.8)        31 (86.1)     311 (89.4)     176 (80.0)   0.008\n",
       "                               1           86 (14.2)         5 (13.9)      37 (10.6)      44 (20.0)        \n",
       "preop_hb, mean (SD)                       12.0 (2.9)        6.7 (6.5)     12.4 (2.1)     12.3 (2.2)  <0.001\n",
       "preop_plt, mean (SD)                    257.2 (92.9)    179.6 (143.7)   262.6 (84.3)   261.4 (90.2)  <0.001\n",
       "preop_pt, mean (SD)                      98.0 (22.0)      61.8 (49.5)    99.3 (17.0)   101.9 (15.6)  <0.001\n",
       "preop_aptt, mean (SD)                     31.7 (7.7)      19.7 (17.0)     32.3 (5.2)     32.8 (6.8)  <0.001\n",
       "preop_na, mean (SD)                     132.1 (33.7)       -1.0 (0.0)    140.6 (2.9)    140.4 (2.7)  <0.001\n",
       "preop_k, mean (SD)                         3.8 (1.3)       -1.0 (0.0)      4.1 (0.4)      4.1 (0.4)  <0.001\n",
       "preop_gluc, mean (SD)                   114.7 (48.6)      75.7 (58.0)   113.3 (43.2)   123.5 (51.8)  <0.001\n",
       "preop_alb, mean (SD)                       3.8 (0.9)        1.8 (2.4)      4.0 (0.5)      3.9 (0.6)  <0.001\n",
       "preop_ast, mean (SD)                     22.1 (13.7)      15.5 (15.6)    22.1 (13.6)    23.1 (13.4)   0.009\n",
       "preop_alt, mean (SD)                     19.1 (15.2)      11.4 (13.5)    19.4 (14.8)    19.9 (15.8)   0.007\n",
       "preop_bun, mean (SD)                      14.2 (6.8)       10.2 (9.3)     13.5 (5.0)     16.0 (8.2)  <0.001\n",
       "preop_cr, mean (SD)                        0.9 (0.9)        0.0 (0.9)      0.8 (0.5)      1.0 (1.2)  <0.001\n",
       "intraop_uo, mean (SD)                  186.2 (206.5)    182.9 (197.9)  191.3 (195.1)  178.6 (225.3)   0.770\n",
       "intraop_crystalloid, mean (SD)         992.1 (909.9)  1113.0 (1125.1)  993.6 (886.1)  970.0 (911.3)   0.682\n",
       "intraop_ppf, mean (SD)                   52.6 (56.3)      62.5 (56.7)    53.1 (56.7)    50.2 (55.8)   0.467\n",
       "intraop_ftn, n (%)             0          452 (74.8)        21 (58.3)     262 (75.3)     169 (76.8)   0.140\n",
       "                               100        128 (21.2)        13 (36.1)      71 (20.4)      44 (20.0)        \n",
       "                               150           3 (0.5)          1 (2.8)        2 (0.6)                       \n",
       "                               200           7 (1.2)          1 (2.8)        4 (1.1)        2 (0.9)        \n",
       "                               50           14 (2.3)                         9 (2.6)        5 (2.3)        \n",
       "intraop_rocu, mean (SD)                  84.4 (24.1)      83.3 (30.4)    85.8 (23.3)    82.4 (24.3)   0.255\n",
       "intraop_eph, mean (SD)                   10.0 (12.2)      14.3 (20.7)     9.0 (11.1)    10.8 (11.9)   0.020\n",
       "label, n (%)                   0            36 (6.0)       36 (100.0)                                <0.001\n",
       "                               1          348 (57.6)                     348 (100.0)                       \n",
       "                               2          220 (36.4)                                    220 (100.0)        \n",
       "[1] Chi-squared tests for the following variables may be invalid due to the low number of observations: asa, intraop_ftn, label."
      ]
     },
     "execution_count": 82,
     "metadata": {},
     "output_type": "execute_result"
    }
   ],
   "source": [
    "data_tableone = data.drop(['caseid'], axis=1)\n",
    "tbl_label = TableOne(data_tableone, columns=list(data_tableone.columns),  categorical=categoricals, missing=False, groupby='label',  pval=True)\n",
    "pd.set_option('display.max_rows', 500)\n",
    "tbl_label"
   ]
  },
  {
   "cell_type": "code",
   "execution_count": 83,
   "id": "f8a9c496",
   "metadata": {},
   "outputs": [],
   "source": [
    "tbl_label.to_html('tbl_label.html')"
   ]
  },
  {
   "cell_type": "code",
   "execution_count": null,
   "id": "feb1368f",
   "metadata": {},
   "outputs": [],
   "source": [
    "tbl_label.to_csv('tbl_label.csv')"
   ]
  },
  {
   "cell_type": "code",
   "execution_count": 64,
   "id": "6cfce1aa",
   "metadata": {},
   "outputs": [
    {
     "data": {
      "text/html": [
       "<div>\n",
       "<style scoped>\n",
       "    .dataframe tbody tr th:only-of-type {\n",
       "        vertical-align: middle;\n",
       "    }\n",
       "\n",
       "    .dataframe tbody tr th {\n",
       "        vertical-align: top;\n",
       "    }\n",
       "\n",
       "    .dataframe thead th {\n",
       "        text-align: right;\n",
       "    }\n",
       "</style>\n",
       "<table border=\"1\" class=\"dataframe\">\n",
       "  <thead>\n",
       "    <tr style=\"text-align: right;\">\n",
       "      <th></th>\n",
       "      <th></th>\n",
       "      <th>Overall</th>\n",
       "    </tr>\n",
       "  </thead>\n",
       "  <tbody>\n",
       "    <tr>\n",
       "      <th>n</th>\n",
       "      <th></th>\n",
       "      <td>604</td>\n",
       "    </tr>\n",
       "    <tr>\n",
       "      <th>caseid, mean (SD)</th>\n",
       "      <th></th>\n",
       "      <td>3150.5 (1816.5)</td>\n",
       "    </tr>\n",
       "    <tr>\n",
       "      <th>age, mean (SD)</th>\n",
       "      <th></th>\n",
       "      <td>62.7 (12.1)</td>\n",
       "    </tr>\n",
       "    <tr>\n",
       "      <th>height, mean (SD)</th>\n",
       "      <th></th>\n",
       "      <td>161.8 (8.7)</td>\n",
       "    </tr>\n",
       "    <tr>\n",
       "      <th>weight, mean (SD)</th>\n",
       "      <th></th>\n",
       "      <td>60.7 (10.9)</td>\n",
       "    </tr>\n",
       "    <tr>\n",
       "      <th>bmi, mean (SD)</th>\n",
       "      <th></th>\n",
       "      <td>23.1 (3.5)</td>\n",
       "    </tr>\n",
       "    <tr>\n",
       "      <th>asa, mean (SD)</th>\n",
       "      <th></th>\n",
       "      <td>1.8 (0.7)</td>\n",
       "    </tr>\n",
       "    <tr>\n",
       "      <th rowspan=\"2\" valign=\"top\">preop_htn, n (%)</th>\n",
       "      <th>0</th>\n",
       "      <td>373 (61.8)</td>\n",
       "    </tr>\n",
       "    <tr>\n",
       "      <th>1</th>\n",
       "      <td>231 (38.2)</td>\n",
       "    </tr>\n",
       "    <tr>\n",
       "      <th rowspan=\"2\" valign=\"top\">preop_dm, n (%)</th>\n",
       "      <th>0</th>\n",
       "      <td>518 (85.8)</td>\n",
       "    </tr>\n",
       "    <tr>\n",
       "      <th>1</th>\n",
       "      <td>86 (14.2)</td>\n",
       "    </tr>\n",
       "    <tr>\n",
       "      <th>preop_hb, mean (SD)</th>\n",
       "      <th></th>\n",
       "      <td>12.0 (2.9)</td>\n",
       "    </tr>\n",
       "    <tr>\n",
       "      <th>preop_plt, mean (SD)</th>\n",
       "      <th></th>\n",
       "      <td>257.2 (92.9)</td>\n",
       "    </tr>\n",
       "    <tr>\n",
       "      <th>preop_pt, mean (SD)</th>\n",
       "      <th></th>\n",
       "      <td>98.0 (22.0)</td>\n",
       "    </tr>\n",
       "    <tr>\n",
       "      <th>preop_aptt, mean (SD)</th>\n",
       "      <th></th>\n",
       "      <td>31.7 (7.7)</td>\n",
       "    </tr>\n",
       "    <tr>\n",
       "      <th>preop_na, mean (SD)</th>\n",
       "      <th></th>\n",
       "      <td>132.1 (33.7)</td>\n",
       "    </tr>\n",
       "    <tr>\n",
       "      <th>preop_k, mean (SD)</th>\n",
       "      <th></th>\n",
       "      <td>3.8 (1.3)</td>\n",
       "    </tr>\n",
       "    <tr>\n",
       "      <th>preop_gluc, mean (SD)</th>\n",
       "      <th></th>\n",
       "      <td>114.7 (48.6)</td>\n",
       "    </tr>\n",
       "    <tr>\n",
       "      <th>preop_alb, mean (SD)</th>\n",
       "      <th></th>\n",
       "      <td>3.8 (0.9)</td>\n",
       "    </tr>\n",
       "    <tr>\n",
       "      <th>preop_ast, mean (SD)</th>\n",
       "      <th></th>\n",
       "      <td>22.1 (13.7)</td>\n",
       "    </tr>\n",
       "    <tr>\n",
       "      <th>preop_alt, mean (SD)</th>\n",
       "      <th></th>\n",
       "      <td>19.1 (15.2)</td>\n",
       "    </tr>\n",
       "    <tr>\n",
       "      <th>preop_bun, mean (SD)</th>\n",
       "      <th></th>\n",
       "      <td>14.2 (6.8)</td>\n",
       "    </tr>\n",
       "    <tr>\n",
       "      <th>preop_cr, mean (SD)</th>\n",
       "      <th></th>\n",
       "      <td>0.9 (0.9)</td>\n",
       "    </tr>\n",
       "    <tr>\n",
       "      <th>intraop_uo, mean (SD)</th>\n",
       "      <th></th>\n",
       "      <td>186.2 (206.5)</td>\n",
       "    </tr>\n",
       "    <tr>\n",
       "      <th>intraop_crystalloid, mean (SD)</th>\n",
       "      <th></th>\n",
       "      <td>992.1 (909.9)</td>\n",
       "    </tr>\n",
       "    <tr>\n",
       "      <th>intraop_ppf, mean (SD)</th>\n",
       "      <th></th>\n",
       "      <td>52.6 (56.3)</td>\n",
       "    </tr>\n",
       "    <tr>\n",
       "      <th>intraop_ftn, mean (SD)</th>\n",
       "      <th></th>\n",
       "      <td>25.4 (45.9)</td>\n",
       "    </tr>\n",
       "    <tr>\n",
       "      <th>intraop_rocu, mean (SD)</th>\n",
       "      <th></th>\n",
       "      <td>84.4 (24.1)</td>\n",
       "    </tr>\n",
       "    <tr>\n",
       "      <th>intraop_eph, mean (SD)</th>\n",
       "      <th></th>\n",
       "      <td>10.0 (12.2)</td>\n",
       "    </tr>\n",
       "  </tbody>\n",
       "</table>\n",
       "</div><br />"
      ],
      "text/plain": [
       "                                          Overall\n",
       "n                                             604\n",
       "caseid, mean (SD)                 3150.5 (1816.5)\n",
       "age, mean (SD)                        62.7 (12.1)\n",
       "height, mean (SD)                     161.8 (8.7)\n",
       "weight, mean (SD)                     60.7 (10.9)\n",
       "bmi, mean (SD)                         23.1 (3.5)\n",
       "asa, mean (SD)                          1.8 (0.7)\n",
       "preop_htn, n (%)               0       373 (61.8)\n",
       "                               1       231 (38.2)\n",
       "preop_dm, n (%)                0       518 (85.8)\n",
       "                               1        86 (14.2)\n",
       "preop_hb, mean (SD)                    12.0 (2.9)\n",
       "preop_plt, mean (SD)                 257.2 (92.9)\n",
       "preop_pt, mean (SD)                   98.0 (22.0)\n",
       "preop_aptt, mean (SD)                  31.7 (7.7)\n",
       "preop_na, mean (SD)                  132.1 (33.7)\n",
       "preop_k, mean (SD)                      3.8 (1.3)\n",
       "preop_gluc, mean (SD)                114.7 (48.6)\n",
       "preop_alb, mean (SD)                    3.8 (0.9)\n",
       "preop_ast, mean (SD)                  22.1 (13.7)\n",
       "preop_alt, mean (SD)                  19.1 (15.2)\n",
       "preop_bun, mean (SD)                   14.2 (6.8)\n",
       "preop_cr, mean (SD)                     0.9 (0.9)\n",
       "intraop_uo, mean (SD)               186.2 (206.5)\n",
       "intraop_crystalloid, mean (SD)      992.1 (909.9)\n",
       "intraop_ppf, mean (SD)                52.6 (56.3)\n",
       "intraop_ftn, mean (SD)                25.4 (45.9)\n",
       "intraop_rocu, mean (SD)               84.4 (24.1)\n",
       "intraop_eph, mean (SD)                10.0 (12.2)"
      ]
     },
     "execution_count": 64,
     "metadata": {},
     "output_type": "execute_result"
    }
   ],
   "source": [
    "tbl = TableOne(data, columns=list(data.columns), missing=False, htest_name=True)\n",
    "pd.set_option('display.max_rows', 500)\n",
    "tbl"
   ]
  },
  {
   "cell_type": "code",
   "execution_count": 65,
   "id": "401901f8",
   "metadata": {},
   "outputs": [],
   "source": [
    "data_cl1 = data.loc[data['caseid'].isin(cluster_one)]"
   ]
  },
  {
   "cell_type": "code",
   "execution_count": 67,
   "id": "5bae5a61",
   "metadata": {},
   "outputs": [
    {
     "data": {
      "text/html": [
       "<div>\n",
       "<style scoped>\n",
       "    .dataframe tbody tr th:only-of-type {\n",
       "        vertical-align: middle;\n",
       "    }\n",
       "\n",
       "    .dataframe tbody tr th {\n",
       "        vertical-align: top;\n",
       "    }\n",
       "\n",
       "    .dataframe thead th {\n",
       "        text-align: right;\n",
       "    }\n",
       "</style>\n",
       "<table border=\"1\" class=\"dataframe\">\n",
       "  <thead>\n",
       "    <tr style=\"text-align: right;\">\n",
       "      <th></th>\n",
       "      <th></th>\n",
       "      <th>Overall</th>\n",
       "    </tr>\n",
       "  </thead>\n",
       "  <tbody>\n",
       "    <tr>\n",
       "      <th>n</th>\n",
       "      <th></th>\n",
       "      <td>36</td>\n",
       "    </tr>\n",
       "    <tr>\n",
       "      <th>caseid, mean (SD)</th>\n",
       "      <th></th>\n",
       "      <td>2884.8 (1921.7)</td>\n",
       "    </tr>\n",
       "    <tr>\n",
       "      <th>age, mean (SD)</th>\n",
       "      <th></th>\n",
       "      <td>65.3 (12.8)</td>\n",
       "    </tr>\n",
       "    <tr>\n",
       "      <th>height, mean (SD)</th>\n",
       "      <th></th>\n",
       "      <td>159.1 (8.5)</td>\n",
       "    </tr>\n",
       "    <tr>\n",
       "      <th>weight, mean (SD)</th>\n",
       "      <th></th>\n",
       "      <td>58.3 (12.4)</td>\n",
       "    </tr>\n",
       "    <tr>\n",
       "      <th>bmi, mean (SD)</th>\n",
       "      <th></th>\n",
       "      <td>22.9 (3.7)</td>\n",
       "    </tr>\n",
       "    <tr>\n",
       "      <th>asa, mean (SD)</th>\n",
       "      <th></th>\n",
       "      <td>0.9 (1.2)</td>\n",
       "    </tr>\n",
       "    <tr>\n",
       "      <th>preop_htn, mean (SD)</th>\n",
       "      <th></th>\n",
       "      <td>0.3 (0.5)</td>\n",
       "    </tr>\n",
       "    <tr>\n",
       "      <th>preop_dm, mean (SD)</th>\n",
       "      <th></th>\n",
       "      <td>0.1 (0.4)</td>\n",
       "    </tr>\n",
       "    <tr>\n",
       "      <th>preop_hb, mean (SD)</th>\n",
       "      <th></th>\n",
       "      <td>6.7 (6.5)</td>\n",
       "    </tr>\n",
       "    <tr>\n",
       "      <th>preop_plt, mean (SD)</th>\n",
       "      <th></th>\n",
       "      <td>179.6 (143.7)</td>\n",
       "    </tr>\n",
       "    <tr>\n",
       "      <th>preop_pt, mean (SD)</th>\n",
       "      <th></th>\n",
       "      <td>61.8 (49.5)</td>\n",
       "    </tr>\n",
       "    <tr>\n",
       "      <th>preop_aptt, mean (SD)</th>\n",
       "      <th></th>\n",
       "      <td>19.7 (17.0)</td>\n",
       "    </tr>\n",
       "    <tr>\n",
       "      <th>preop_na, mean (SD)</th>\n",
       "      <th></th>\n",
       "      <td>-1.0 (0.0)</td>\n",
       "    </tr>\n",
       "    <tr>\n",
       "      <th>preop_k, mean (SD)</th>\n",
       "      <th></th>\n",
       "      <td>-1.0 (0.0)</td>\n",
       "    </tr>\n",
       "    <tr>\n",
       "      <th>preop_gluc, mean (SD)</th>\n",
       "      <th></th>\n",
       "      <td>75.7 (58.0)</td>\n",
       "    </tr>\n",
       "    <tr>\n",
       "      <th>preop_alb, mean (SD)</th>\n",
       "      <th></th>\n",
       "      <td>1.8 (2.4)</td>\n",
       "    </tr>\n",
       "    <tr>\n",
       "      <th>preop_ast, mean (SD)</th>\n",
       "      <th></th>\n",
       "      <td>15.5 (15.6)</td>\n",
       "    </tr>\n",
       "    <tr>\n",
       "      <th>preop_alt, mean (SD)</th>\n",
       "      <th></th>\n",
       "      <td>11.4 (13.5)</td>\n",
       "    </tr>\n",
       "    <tr>\n",
       "      <th>preop_bun, mean (SD)</th>\n",
       "      <th></th>\n",
       "      <td>10.2 (9.3)</td>\n",
       "    </tr>\n",
       "    <tr>\n",
       "      <th>preop_cr, mean (SD)</th>\n",
       "      <th></th>\n",
       "      <td>0.0 (0.9)</td>\n",
       "    </tr>\n",
       "    <tr>\n",
       "      <th>intraop_uo, mean (SD)</th>\n",
       "      <th></th>\n",
       "      <td>182.9 (197.9)</td>\n",
       "    </tr>\n",
       "    <tr>\n",
       "      <th>intraop_crystalloid, mean (SD)</th>\n",
       "      <th></th>\n",
       "      <td>1113.0 (1125.1)</td>\n",
       "    </tr>\n",
       "    <tr>\n",
       "      <th>intraop_ppf, mean (SD)</th>\n",
       "      <th></th>\n",
       "      <td>62.5 (56.7)</td>\n",
       "    </tr>\n",
       "    <tr>\n",
       "      <th>intraop_ftn, mean (SD)</th>\n",
       "      <th></th>\n",
       "      <td>45.8 (57.8)</td>\n",
       "    </tr>\n",
       "    <tr>\n",
       "      <th>intraop_rocu, mean (SD)</th>\n",
       "      <th></th>\n",
       "      <td>83.3 (30.4)</td>\n",
       "    </tr>\n",
       "    <tr>\n",
       "      <th>intraop_eph, mean (SD)</th>\n",
       "      <th></th>\n",
       "      <td>14.3 (20.7)</td>\n",
       "    </tr>\n",
       "  </tbody>\n",
       "</table>\n",
       "</div><br />"
      ],
      "text/plain": [
       "                                         Overall\n",
       "n                                             36\n",
       "caseid, mean (SD)                2884.8 (1921.7)\n",
       "age, mean (SD)                       65.3 (12.8)\n",
       "height, mean (SD)                    159.1 (8.5)\n",
       "weight, mean (SD)                    58.3 (12.4)\n",
       "bmi, mean (SD)                        22.9 (3.7)\n",
       "asa, mean (SD)                         0.9 (1.2)\n",
       "preop_htn, mean (SD)                   0.3 (0.5)\n",
       "preop_dm, mean (SD)                    0.1 (0.4)\n",
       "preop_hb, mean (SD)                    6.7 (6.5)\n",
       "preop_plt, mean (SD)               179.6 (143.7)\n",
       "preop_pt, mean (SD)                  61.8 (49.5)\n",
       "preop_aptt, mean (SD)                19.7 (17.0)\n",
       "preop_na, mean (SD)                   -1.0 (0.0)\n",
       "preop_k, mean (SD)                    -1.0 (0.0)\n",
       "preop_gluc, mean (SD)                75.7 (58.0)\n",
       "preop_alb, mean (SD)                   1.8 (2.4)\n",
       "preop_ast, mean (SD)                 15.5 (15.6)\n",
       "preop_alt, mean (SD)                 11.4 (13.5)\n",
       "preop_bun, mean (SD)                  10.2 (9.3)\n",
       "preop_cr, mean (SD)                    0.0 (0.9)\n",
       "intraop_uo, mean (SD)              182.9 (197.9)\n",
       "intraop_crystalloid, mean (SD)   1113.0 (1125.1)\n",
       "intraop_ppf, mean (SD)               62.5 (56.7)\n",
       "intraop_ftn, mean (SD)               45.8 (57.8)\n",
       "intraop_rocu, mean (SD)              83.3 (30.4)\n",
       "intraop_eph, mean (SD)               14.3 (20.7)"
      ]
     },
     "execution_count": 67,
     "metadata": {},
     "output_type": "execute_result"
    }
   ],
   "source": [
    "tbl_one = TableOne(data_cl1, columns=list(data_cl1.columns), missing=False, htest_name=True)\n",
    "pd.set_option('display.max_rows', 500)\n",
    "tbl_one"
   ]
  },
  {
   "cell_type": "code",
   "execution_count": 68,
   "id": "57fea415",
   "metadata": {},
   "outputs": [
    {
     "data": {
      "text/html": [
       "<div>\n",
       "<style scoped>\n",
       "    .dataframe tbody tr th:only-of-type {\n",
       "        vertical-align: middle;\n",
       "    }\n",
       "\n",
       "    .dataframe tbody tr th {\n",
       "        vertical-align: top;\n",
       "    }\n",
       "\n",
       "    .dataframe thead th {\n",
       "        text-align: right;\n",
       "    }\n",
       "</style>\n",
       "<table border=\"1\" class=\"dataframe\">\n",
       "  <thead>\n",
       "    <tr style=\"text-align: right;\">\n",
       "      <th></th>\n",
       "      <th></th>\n",
       "      <th>Overall</th>\n",
       "    </tr>\n",
       "  </thead>\n",
       "  <tbody>\n",
       "    <tr>\n",
       "      <th>n</th>\n",
       "      <th></th>\n",
       "      <td>348</td>\n",
       "    </tr>\n",
       "    <tr>\n",
       "      <th>caseid, mean (SD)</th>\n",
       "      <th></th>\n",
       "      <td>3182.1 (1861.3)</td>\n",
       "    </tr>\n",
       "    <tr>\n",
       "      <th>age, mean (SD)</th>\n",
       "      <th></th>\n",
       "      <td>59.6 (12.4)</td>\n",
       "    </tr>\n",
       "    <tr>\n",
       "      <th>height, mean (SD)</th>\n",
       "      <th></th>\n",
       "      <td>162.5 (8.6)</td>\n",
       "    </tr>\n",
       "    <tr>\n",
       "      <th>weight, mean (SD)</th>\n",
       "      <th></th>\n",
       "      <td>60.2 (10.9)</td>\n",
       "    </tr>\n",
       "    <tr>\n",
       "      <th>bmi, mean (SD)</th>\n",
       "      <th></th>\n",
       "      <td>22.8 (3.5)</td>\n",
       "    </tr>\n",
       "    <tr>\n",
       "      <th>asa, mean (SD)</th>\n",
       "      <th></th>\n",
       "      <td>1.7 (0.6)</td>\n",
       "    </tr>\n",
       "    <tr>\n",
       "      <th>preop_htn, n (%)</th>\n",
       "      <th>0</th>\n",
       "      <td>348 (100.0)</td>\n",
       "    </tr>\n",
       "    <tr>\n",
       "      <th>preop_dm, mean (SD)</th>\n",
       "      <th></th>\n",
       "      <td>0.1 (0.3)</td>\n",
       "    </tr>\n",
       "    <tr>\n",
       "      <th>preop_hb, mean (SD)</th>\n",
       "      <th></th>\n",
       "      <td>12.4 (2.1)</td>\n",
       "    </tr>\n",
       "    <tr>\n",
       "      <th>preop_plt, mean (SD)</th>\n",
       "      <th></th>\n",
       "      <td>262.6 (84.3)</td>\n",
       "    </tr>\n",
       "    <tr>\n",
       "      <th>preop_pt, mean (SD)</th>\n",
       "      <th></th>\n",
       "      <td>99.3 (17.0)</td>\n",
       "    </tr>\n",
       "    <tr>\n",
       "      <th>preop_aptt, mean (SD)</th>\n",
       "      <th></th>\n",
       "      <td>32.3 (5.2)</td>\n",
       "    </tr>\n",
       "    <tr>\n",
       "      <th>preop_na, mean (SD)</th>\n",
       "      <th></th>\n",
       "      <td>140.6 (2.9)</td>\n",
       "    </tr>\n",
       "    <tr>\n",
       "      <th>preop_k, mean (SD)</th>\n",
       "      <th></th>\n",
       "      <td>4.1 (0.4)</td>\n",
       "    </tr>\n",
       "    <tr>\n",
       "      <th>preop_gluc, mean (SD)</th>\n",
       "      <th></th>\n",
       "      <td>113.3 (43.2)</td>\n",
       "    </tr>\n",
       "    <tr>\n",
       "      <th>preop_alb, mean (SD)</th>\n",
       "      <th></th>\n",
       "      <td>4.0 (0.5)</td>\n",
       "    </tr>\n",
       "    <tr>\n",
       "      <th>preop_ast, mean (SD)</th>\n",
       "      <th></th>\n",
       "      <td>22.1 (13.6)</td>\n",
       "    </tr>\n",
       "    <tr>\n",
       "      <th>preop_alt, mean (SD)</th>\n",
       "      <th></th>\n",
       "      <td>19.4 (14.8)</td>\n",
       "    </tr>\n",
       "    <tr>\n",
       "      <th>preop_bun, mean (SD)</th>\n",
       "      <th></th>\n",
       "      <td>13.5 (5.0)</td>\n",
       "    </tr>\n",
       "    <tr>\n",
       "      <th>preop_cr, mean (SD)</th>\n",
       "      <th></th>\n",
       "      <td>0.8 (0.5)</td>\n",
       "    </tr>\n",
       "    <tr>\n",
       "      <th>intraop_uo, mean (SD)</th>\n",
       "      <th></th>\n",
       "      <td>191.3 (195.1)</td>\n",
       "    </tr>\n",
       "    <tr>\n",
       "      <th>intraop_crystalloid, mean (SD)</th>\n",
       "      <th></th>\n",
       "      <td>993.6 (886.1)</td>\n",
       "    </tr>\n",
       "    <tr>\n",
       "      <th>intraop_ppf, mean (SD)</th>\n",
       "      <th></th>\n",
       "      <td>53.1 (56.7)</td>\n",
       "    </tr>\n",
       "    <tr>\n",
       "      <th>intraop_ftn, mean (SD)</th>\n",
       "      <th></th>\n",
       "      <td>24.9 (45.6)</td>\n",
       "    </tr>\n",
       "    <tr>\n",
       "      <th>intraop_rocu, mean (SD)</th>\n",
       "      <th></th>\n",
       "      <td>85.8 (23.3)</td>\n",
       "    </tr>\n",
       "    <tr>\n",
       "      <th>intraop_eph, mean (SD)</th>\n",
       "      <th></th>\n",
       "      <td>9.0 (11.1)</td>\n",
       "    </tr>\n",
       "  </tbody>\n",
       "</table>\n",
       "</div><br />"
      ],
      "text/plain": [
       "                                          Overall\n",
       "n                                             348\n",
       "caseid, mean (SD)                 3182.1 (1861.3)\n",
       "age, mean (SD)                        59.6 (12.4)\n",
       "height, mean (SD)                     162.5 (8.6)\n",
       "weight, mean (SD)                     60.2 (10.9)\n",
       "bmi, mean (SD)                         22.8 (3.5)\n",
       "asa, mean (SD)                          1.7 (0.6)\n",
       "preop_htn, n (%)               0      348 (100.0)\n",
       "preop_dm, mean (SD)                     0.1 (0.3)\n",
       "preop_hb, mean (SD)                    12.4 (2.1)\n",
       "preop_plt, mean (SD)                 262.6 (84.3)\n",
       "preop_pt, mean (SD)                   99.3 (17.0)\n",
       "preop_aptt, mean (SD)                  32.3 (5.2)\n",
       "preop_na, mean (SD)                   140.6 (2.9)\n",
       "preop_k, mean (SD)                      4.1 (0.4)\n",
       "preop_gluc, mean (SD)                113.3 (43.2)\n",
       "preop_alb, mean (SD)                    4.0 (0.5)\n",
       "preop_ast, mean (SD)                  22.1 (13.6)\n",
       "preop_alt, mean (SD)                  19.4 (14.8)\n",
       "preop_bun, mean (SD)                   13.5 (5.0)\n",
       "preop_cr, mean (SD)                     0.8 (0.5)\n",
       "intraop_uo, mean (SD)               191.3 (195.1)\n",
       "intraop_crystalloid, mean (SD)      993.6 (886.1)\n",
       "intraop_ppf, mean (SD)                53.1 (56.7)\n",
       "intraop_ftn, mean (SD)                24.9 (45.6)\n",
       "intraop_rocu, mean (SD)               85.8 (23.3)\n",
       "intraop_eph, mean (SD)                 9.0 (11.1)"
      ]
     },
     "execution_count": 68,
     "metadata": {},
     "output_type": "execute_result"
    }
   ],
   "source": [
    "data_cl2 = data.loc[data['caseid'].isin(cluster_two)]\n",
    "tbl_two = TableOne(data_cl2, columns=list(data_cl2.columns), missing=False, htest_name=True)\n",
    "pd.set_option('display.max_rows', 500)\n",
    "tbl_two"
   ]
  },
  {
   "cell_type": "code",
   "execution_count": 69,
   "id": "b6e01145",
   "metadata": {},
   "outputs": [
    {
     "data": {
      "text/html": [
       "<div>\n",
       "<style scoped>\n",
       "    .dataframe tbody tr th:only-of-type {\n",
       "        vertical-align: middle;\n",
       "    }\n",
       "\n",
       "    .dataframe tbody tr th {\n",
       "        vertical-align: top;\n",
       "    }\n",
       "\n",
       "    .dataframe thead th {\n",
       "        text-align: right;\n",
       "    }\n",
       "</style>\n",
       "<table border=\"1\" class=\"dataframe\">\n",
       "  <thead>\n",
       "    <tr style=\"text-align: right;\">\n",
       "      <th></th>\n",
       "      <th></th>\n",
       "      <th>Overall</th>\n",
       "    </tr>\n",
       "  </thead>\n",
       "  <tbody>\n",
       "    <tr>\n",
       "      <th>n</th>\n",
       "      <th></th>\n",
       "      <td>220</td>\n",
       "    </tr>\n",
       "    <tr>\n",
       "      <th>caseid, mean (SD)</th>\n",
       "      <th></th>\n",
       "      <td>3144.0 (1729.8)</td>\n",
       "    </tr>\n",
       "    <tr>\n",
       "      <th>age, mean (SD)</th>\n",
       "      <th></th>\n",
       "      <td>67.2 (9.9)</td>\n",
       "    </tr>\n",
       "    <tr>\n",
       "      <th>height, mean (SD)</th>\n",
       "      <th></th>\n",
       "      <td>161.3 (8.6)</td>\n",
       "    </tr>\n",
       "    <tr>\n",
       "      <th>weight, mean (SD)</th>\n",
       "      <th></th>\n",
       "      <td>61.9 (10.6)</td>\n",
       "    </tr>\n",
       "    <tr>\n",
       "      <th>bmi, mean (SD)</th>\n",
       "      <th></th>\n",
       "      <td>23.8 (3.4)</td>\n",
       "    </tr>\n",
       "    <tr>\n",
       "      <th>asa, mean (SD)</th>\n",
       "      <th></th>\n",
       "      <td>2.1 (0.5)</td>\n",
       "    </tr>\n",
       "    <tr>\n",
       "      <th>preop_htn, n (%)</th>\n",
       "      <th>1</th>\n",
       "      <td>220 (100.0)</td>\n",
       "    </tr>\n",
       "    <tr>\n",
       "      <th>preop_dm, mean (SD)</th>\n",
       "      <th></th>\n",
       "      <td>0.2 (0.4)</td>\n",
       "    </tr>\n",
       "    <tr>\n",
       "      <th>preop_hb, mean (SD)</th>\n",
       "      <th></th>\n",
       "      <td>12.3 (2.2)</td>\n",
       "    </tr>\n",
       "    <tr>\n",
       "      <th>preop_plt, mean (SD)</th>\n",
       "      <th></th>\n",
       "      <td>261.4 (90.2)</td>\n",
       "    </tr>\n",
       "    <tr>\n",
       "      <th>preop_pt, mean (SD)</th>\n",
       "      <th></th>\n",
       "      <td>101.9 (15.6)</td>\n",
       "    </tr>\n",
       "    <tr>\n",
       "      <th>preop_aptt, mean (SD)</th>\n",
       "      <th></th>\n",
       "      <td>32.8 (6.8)</td>\n",
       "    </tr>\n",
       "    <tr>\n",
       "      <th>preop_na, mean (SD)</th>\n",
       "      <th></th>\n",
       "      <td>140.4 (2.7)</td>\n",
       "    </tr>\n",
       "    <tr>\n",
       "      <th>preop_k, mean (SD)</th>\n",
       "      <th></th>\n",
       "      <td>4.1 (0.4)</td>\n",
       "    </tr>\n",
       "    <tr>\n",
       "      <th>preop_gluc, mean (SD)</th>\n",
       "      <th></th>\n",
       "      <td>123.5 (51.8)</td>\n",
       "    </tr>\n",
       "    <tr>\n",
       "      <th>preop_alb, mean (SD)</th>\n",
       "      <th></th>\n",
       "      <td>3.9 (0.6)</td>\n",
       "    </tr>\n",
       "    <tr>\n",
       "      <th>preop_ast, mean (SD)</th>\n",
       "      <th></th>\n",
       "      <td>23.1 (13.4)</td>\n",
       "    </tr>\n",
       "    <tr>\n",
       "      <th>preop_alt, mean (SD)</th>\n",
       "      <th></th>\n",
       "      <td>19.9 (15.8)</td>\n",
       "    </tr>\n",
       "    <tr>\n",
       "      <th>preop_bun, mean (SD)</th>\n",
       "      <th></th>\n",
       "      <td>16.0 (8.2)</td>\n",
       "    </tr>\n",
       "    <tr>\n",
       "      <th>preop_cr, mean (SD)</th>\n",
       "      <th></th>\n",
       "      <td>1.0 (1.2)</td>\n",
       "    </tr>\n",
       "    <tr>\n",
       "      <th>intraop_uo, mean (SD)</th>\n",
       "      <th></th>\n",
       "      <td>178.6 (225.3)</td>\n",
       "    </tr>\n",
       "    <tr>\n",
       "      <th>intraop_crystalloid, mean (SD)</th>\n",
       "      <th></th>\n",
       "      <td>970.0 (911.3)</td>\n",
       "    </tr>\n",
       "    <tr>\n",
       "      <th>intraop_ppf, mean (SD)</th>\n",
       "      <th></th>\n",
       "      <td>50.2 (55.8)</td>\n",
       "    </tr>\n",
       "    <tr>\n",
       "      <th>intraop_ftn, mean (SD)</th>\n",
       "      <th></th>\n",
       "      <td>23.0 (43.6)</td>\n",
       "    </tr>\n",
       "    <tr>\n",
       "      <th>intraop_rocu, mean (SD)</th>\n",
       "      <th></th>\n",
       "      <td>82.4 (24.3)</td>\n",
       "    </tr>\n",
       "    <tr>\n",
       "      <th>intraop_eph, mean (SD)</th>\n",
       "      <th></th>\n",
       "      <td>10.8 (11.9)</td>\n",
       "    </tr>\n",
       "  </tbody>\n",
       "</table>\n",
       "</div><br />"
      ],
      "text/plain": [
       "                                          Overall\n",
       "n                                             220\n",
       "caseid, mean (SD)                 3144.0 (1729.8)\n",
       "age, mean (SD)                         67.2 (9.9)\n",
       "height, mean (SD)                     161.3 (8.6)\n",
       "weight, mean (SD)                     61.9 (10.6)\n",
       "bmi, mean (SD)                         23.8 (3.4)\n",
       "asa, mean (SD)                          2.1 (0.5)\n",
       "preop_htn, n (%)               1      220 (100.0)\n",
       "preop_dm, mean (SD)                     0.2 (0.4)\n",
       "preop_hb, mean (SD)                    12.3 (2.2)\n",
       "preop_plt, mean (SD)                 261.4 (90.2)\n",
       "preop_pt, mean (SD)                  101.9 (15.6)\n",
       "preop_aptt, mean (SD)                  32.8 (6.8)\n",
       "preop_na, mean (SD)                   140.4 (2.7)\n",
       "preop_k, mean (SD)                      4.1 (0.4)\n",
       "preop_gluc, mean (SD)                123.5 (51.8)\n",
       "preop_alb, mean (SD)                    3.9 (0.6)\n",
       "preop_ast, mean (SD)                  23.1 (13.4)\n",
       "preop_alt, mean (SD)                  19.9 (15.8)\n",
       "preop_bun, mean (SD)                   16.0 (8.2)\n",
       "preop_cr, mean (SD)                     1.0 (1.2)\n",
       "intraop_uo, mean (SD)               178.6 (225.3)\n",
       "intraop_crystalloid, mean (SD)      970.0 (911.3)\n",
       "intraop_ppf, mean (SD)                50.2 (55.8)\n",
       "intraop_ftn, mean (SD)                23.0 (43.6)\n",
       "intraop_rocu, mean (SD)               82.4 (24.3)\n",
       "intraop_eph, mean (SD)                10.8 (11.9)"
      ]
     },
     "execution_count": 69,
     "metadata": {},
     "output_type": "execute_result"
    }
   ],
   "source": [
    "data_cl3 = data.loc[data['caseid'].isin(cluster_three)]\n",
    "tbl_three = TableOne(data_cl3, columns=list(data_cl3.columns), missing=False, htest_name=True)\n",
    "pd.set_option('display.max_rows', 500)\n",
    "tbl_three"
   ]
  },
  {
   "cell_type": "code",
   "execution_count": null,
   "id": "19a11fb0",
   "metadata": {},
   "outputs": [],
   "source": []
  }
 ],
 "metadata": {
  "kernelspec": {
   "display_name": "Python 3.9.5 64-bit",
   "language": "python",
   "name": "python3"
  },
  "language_info": {
   "codemirror_mode": {
    "name": "ipython",
    "version": 3
   },
   "file_extension": ".py",
   "mimetype": "text/x-python",
   "name": "python",
   "nbconvert_exporter": "python",
   "pygments_lexer": "ipython3",
   "version": "3.9.5"
  },
  "vscode": {
   "interpreter": {
    "hash": "aee8b7b246df8f9039afb4144a1f6fd8d2ca17a180786b69acc140d282b71a49"
   }
  }
 },
 "nbformat": 4,
 "nbformat_minor": 5
}
